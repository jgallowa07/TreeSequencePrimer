{
 "cells": [
  {
   "cell_type": "markdown",
   "metadata": {
    "slideshow": {
     "slide_type": "slide"
    }
   },
   "source": [
    "# *Jared Galloway*\n",
    "\n",
    "*Introduction and TreeSequence Primer*\n",
    "\n",
    "*Matsen Lab Meeting - May 15, 2020*"
   ]
  },
  {
   "cell_type": "markdown",
   "metadata": {
    "slideshow": {
     "slide_type": "subslide"
    }
   },
   "source": [
    "# *Elevator Introduction*"
   ]
  },
  {
   "cell_type": "markdown",
   "metadata": {
    "slideshow": {
     "slide_type": "fragment"
    }
   },
   "source": [
    " \n",
    "* Undergraduate in Computer and Information Science, University of Oregon."
   ]
  },
  {
   "cell_type": "markdown",
   "metadata": {
    "slideshow": {
     "slide_type": "fragment"
    }
   },
   "source": [
    " * Started research surrounding population genetics slightly over 3 years ago w/ Peter Ralph IE$^{2}$"
   ]
  },
  {
   "cell_type": "markdown",
   "metadata": {
    "slideshow": {
     "slide_type": "fragment"
    }
   },
   "source": [
    " * Took a gap year to continue research and learn more about ML/DL with Peter and Andy."
   ]
  },
  {
   "cell_type": "markdown",
   "metadata": {
    "slideshow": {
     "slide_type": "fragment"
    }
   },
   "source": [
    "* Started a Masters in Biology at the University of Oregon"
   ]
  },
  {
   "cell_type": "markdown",
   "metadata": {
    "slideshow": {
     "slide_type": "subslide"
    }
   },
   "source": [
    "* Now, here I am!"
   ]
  },
  {
   "cell_type": "markdown",
   "metadata": {
    "slideshow": {
     "slide_type": "slide"
    }
   },
   "source": [
    "# *The fun stuff: TreeSequence Primer*"
   ]
  },
  {
   "cell_type": "markdown",
   "metadata": {
    "slideshow": {
     "slide_type": "fragment"
    }
   },
   "source": [
    "For a set of sampled chromosomes, at each position along the genome there is a genealogical tree that says how they are related. "
   ]
  },
  {
   "cell_type": "markdown",
   "metadata": {
    "slideshow": {
     "slide_type": "fragment"
    }
   },
   "source": [
    "The tabular data structure known as a `TreeSequence`, created by Jerome Kelleher at Oxford Big Data Institute, allows us to effeciently store these related histories and query them with a poerful, community maintined, set of tools included in\n",
    "`tskit`"
   ]
  },
  {
   "cell_type": "markdown",
   "metadata": {
    "slideshow": {
     "slide_type": "subslide"
    }
   },
   "source": [
    "![SegmentLocal](./materials/sim_ts.anim.gif \"segment\")"
   ]
  },
  {
   "cell_type": "markdown",
   "metadata": {
    "slideshow": {
     "slide_type": "slide"
    }
   },
   "source": [
    "## *Let's back up a little ... Genomes and Genealogies*"
   ]
  },
  {
   "cell_type": "markdown",
   "metadata": {
    "slideshow": {
     "slide_type": "subslide"
    }
   },
   "source": [
    "### Genomes\n",
    "\n",
    "* reflect The basic mechanisms of life!"
   ]
  },
  {
   "cell_type": "markdown",
   "metadata": {
    "slideshow": {
     "slide_type": "fragment"
    }
   },
   "source": [
    "* Are _very_ big, from $\\approx 10^{7}$ to $10^{12}$ nucleotides long"
   ]
  },
  {
   "cell_type": "markdown",
   "metadata": {
    "slideshow": {
     "slide_type": "fragment"
    }
   },
   "source": [
    "* With Next Generation Sequencing, we are able to sequence _lots_ of samples."
   ]
  },
  {
   "cell_type": "markdown",
   "metadata": {
    "slideshow": {
     "slide_type": "fragment"
    }
   },
   "source": [
    "* They are the result of the population process throughout history..."
   ]
  },
  {
   "cell_type": "markdown",
   "metadata": {
    "slideshow": {
     "slide_type": "subslide"
    }
   },
   "source": [
    "### Genealogies\n",
    "\n",
    "* a single genealogy describes the history resulting in an individual's genome."
   ]
  },
  {
   "cell_type": "markdown",
   "metadata": {
    "slideshow": {
     "slide_type": "subslide"
    }
   },
   "source": [
    "<img src=\"materials/family_tree.png\" width=\"750\" align=\"center\">\n",
    "\n",
    "[gcbias](https://gcbias.org/2013/11/11/how-does-your-number-of-genetic-ancestors-grow-back-over-time/)"
   ]
  },
  {
   "cell_type": "markdown",
   "metadata": {
    "slideshow": {
     "slide_type": "subslide"
    }
   },
   "source": [
    "* We are all related by an _expansive_ genealogical network"
   ]
  },
  {
   "cell_type": "markdown",
   "metadata": {
    "slideshow": {
     "slide_type": "fragment"
    }
   },
   "source": [
    "* We can only observe _genomes_ from recent history (with some exceptions), that have been derived from the stochastic processes of mutation and recombination throughout history. "
   ]
  },
  {
   "cell_type": "markdown",
   "metadata": {
    "slideshow": {
     "slide_type": "fragment"
    }
   },
   "source": [
    " * What can we learn about the structure, history, and biology of a _genome_?"
   ]
  },
  {
   "cell_type": "markdown",
   "metadata": {
    "slideshow": {
     "slide_type": "slide"
    }
   },
   "source": [
    "## Modeling"
   ]
  },
  {
   "cell_type": "markdown",
   "metadata": {
    "slideshow": {
     "slide_type": "fragment"
    }
   },
   "source": [
    "* Without recombination, there would be a **single** coalescent tree describing this relationship across the genome for **all** sampled genomes."
   ]
  },
  {
   "cell_type": "markdown",
   "metadata": {
    "slideshow": {
     "slide_type": "fragment"
    }
   },
   "source": [
    "* We can study the the genealogy of a single locus (w/ no recombination) using the Kingman coalescent model"
   ]
  },
  {
   "cell_type": "markdown",
   "metadata": {
    "slideshow": {
     "slide_type": "subslide"
    }
   },
   "source": [
    "<img src=\"materials/coalecent.png\" width=\"750\" align=\"center\">\n",
    "\n",
    "TODO: Cite"
   ]
  },
  {
   "cell_type": "markdown",
   "metadata": {
    "slideshow": {
     "slide_type": "slide"
    }
   },
   "source": [
    "## Meiosis & Recombination"
   ]
  },
  {
   "cell_type": "markdown",
   "metadata": {
    "slideshow": {
     "slide_type": "subslide"
    }
   },
   "source": [
    "* Recombination splits the ancestry on either side of the chromosome at the point where it occurs."
   ]
  },
  {
   "cell_type": "markdown",
   "metadata": {
    "slideshow": {
     "slide_type": "fragment"
    }
   },
   "source": [
    "* This meant that a more complex model was needed if we wanted to study linkage between any loci passed down through generations, split by recombination."
   ]
  },
  {
   "cell_type": "markdown",
   "metadata": {
    "slideshow": {
     "slide_type": "fragment"
    }
   },
   "source": [
    "* Soon after the single locus coalescent was derived, Hudson defined an algorithm to simulate the coalescent with recombination"
   ]
  },
  {
   "cell_type": "markdown",
   "metadata": {
    "slideshow": {
     "slide_type": "fragment"
    }
   },
   "source": [
    "* These models ended up resulting what's known as the *Ancestral Recombination Graph*"
   ]
  },
  {
   "cell_type": "markdown",
   "metadata": {
    "slideshow": {
     "slide_type": "subslide"
    }
   },
   "source": [
    "### Ancestral Recombination Graph (ARG)"
   ]
  },
  {
   "cell_type": "markdown",
   "metadata": {
    "slideshow": {
     "slide_type": "fragment"
    }
   },
   "source": [
    "* In the ARG, nodes are events (either recombination or common ancestor) and the edges are ancestral chromosomes. "
   ]
  },
  {
   "cell_type": "markdown",
   "metadata": {
    "slideshow": {
     "slide_type": "fragment"
    }
   },
   "source": [
    "* A recombination event results in a single ancestral chromosome splitting into two chromosomes, and a common ancestor event results in two chromosomes merging into a common ancestor"
   ]
  },
  {
   "cell_type": "markdown",
   "metadata": {
    "slideshow": {
     "slide_type": "slide"
    }
   },
   "source": [
    "### The problem"
   ]
  },
  {
   "cell_type": "markdown",
   "metadata": {
    "slideshow": {
     "slide_type": "fragment"
    }
   },
   "source": [
    "* The ARG has a scaling problem with number of reccombination events"
   ]
  },
  {
   "cell_type": "markdown",
   "metadata": {
    "slideshow": {
     "slide_type": "fragment"
    }
   },
   "source": [
    "* This is because essentially with each recombination event, ancestral trees split and all the information in the tree had to be copied over to a new tree."
   ]
  },
  {
   "cell_type": "markdown",
   "metadata": {
    "slideshow": {
     "slide_type": "fragment"
    }
   },
   "source": [
    "* seems to imply that simulating the coalescent with recombination over chromosome scales is hopeless :("
   ]
  },
  {
   "cell_type": "markdown",
   "metadata": {
    "slideshow": {
     "slide_type": "fragment"
    }
   },
   "source": [
    "* But wait!"
   ]
  },
  {
   "cell_type": "markdown",
   "metadata": {
    "slideshow": {
     "slide_type": "subslide"
    }
   },
   "source": [
    "[Kelleher, Etheridge, & McVean 2016](https://www.ncbi.nlm.nih.gov/pmc/articles/PMC4856371/)\n",
    "\n",
    "msprime: whole genomes with $N \\approx 10^{5}$ in O(minutes)"
   ]
  },
  {
   "cell_type": "markdown",
   "metadata": {
    "slideshow": {
     "slide_type": "subslide"
    }
   },
   "source": [
    "<img src=\"materials/msprime-time.png\" width=\"750\" align=\"center\">"
   ]
  },
  {
   "cell_type": "markdown",
   "metadata": {
    "slideshow": {
     "slide_type": "slide"
    }
   },
   "source": [
    "## `TreeSequence` Tabular Data Structure"
   ]
  },
  {
   "cell_type": "markdown",
   "metadata": {
    "slideshow": {
     "slide_type": "fragment"
    }
   },
   "source": [
    "* Key idea, marginal trees along the genome are _highly_ correlated with neighboring."
   ]
  },
  {
   "cell_type": "markdown",
   "metadata": {
    "slideshow": {
     "slide_type": "fragment"
    }
   },
   "source": [
    "* Storing a tree sequence in the four tables - nodes, edges, sites, and mutations - is succinct (no redundancy)."
   ]
  },
  {
   "cell_type": "markdown",
   "metadata": {
    "slideshow": {
     "slide_type": "subslide"
    }
   },
   "source": [
    "<img src=\"materials/example_tree_sequence.png\" width=\"750\" align=\"center\">"
   ]
  },
  {
   "cell_type": "markdown",
   "metadata": {
    "slideshow": {
     "slide_type": "slide"
    }
   },
   "source": [
    "## `msprime` and `tskit` python API"
   ]
  },
  {
   "cell_type": "code",
   "execution_count": 36,
   "metadata": {
    "slideshow": {
     "slide_type": "fragment"
    }
   },
   "outputs": [
    {
     "name": "stdout",
     "output_type": "stream",
     "text": [
      "    8    \n",
      " ┏━━┻━┓  \n",
      " ┃    7  \n",
      " ┃  ┏━┻┓ \n",
      " 6  ┃  ┃ \n",
      "┏┻┓ ┃  ┃ \n",
      "┃ ┃ ┃  5 \n",
      "┃ ┃ ┃ ┏┻┓\n",
      "0 4 3 1 2\n",
      "\n"
     ]
    }
   ],
   "source": [
    "import msprime\n",
    "ts = msprime.simulate(5, recombination_rate=0)\n",
    "print(ts.first().draw(format=\"unicode\"))"
   ]
  },
  {
   "cell_type": "code",
   "execution_count": 40,
   "metadata": {
    "slideshow": {
     "slide_type": "subslide"
    }
   },
   "outputs": [
    {
     "name": "stdout",
     "output_type": "stream",
     "text": [
      "Node Generated:\n",
      "\n",
      " id\tflags\tpopulation\tindividual\ttime\tmetadata\n",
      "0\t1\t0\t-1\t0.00000000000000\t\n",
      "1\t1\t0\t-1\t0.00000000000000\t\n",
      "2\t1\t0\t-1\t0.00000000000000\t\n",
      "3\t1\t0\t-1\t0.00000000000000\t\n",
      "4\t1\t0\t-1\t0.00000000000000\t\n",
      "5\t0\t0\t-1\t0.29044375220648\t\n",
      "6\t0\t0\t-1\t0.33685990414120\t\n",
      "7\t0\t0\t-1\t1.74497258380198\t\n",
      "8\t0\t0\t-1\t4.48231130730983\t\n"
     ]
    }
   ],
   "source": [
    "print(f\"Node Table:\\n\\n {ts.tables.nodes}\")"
   ]
  },
  {
   "cell_type": "code",
   "execution_count": 41,
   "metadata": {
    "slideshow": {
     "slide_type": "subslide"
    }
   },
   "outputs": [
    {
     "name": "stdout",
     "output_type": "stream",
     "text": [
      "Node Generated:\n",
      "\n",
      " id\tleft\t\tright\t\tparent\tchild\n",
      "0\t0.00000000\t1.00000000\t5\t1\n",
      "1\t0.00000000\t1.00000000\t5\t2\n",
      "2\t0.00000000\t1.00000000\t6\t0\n",
      "3\t0.00000000\t1.00000000\t6\t4\n",
      "4\t0.00000000\t1.00000000\t7\t3\n",
      "5\t0.00000000\t1.00000000\t7\t5\n",
      "6\t0.00000000\t1.00000000\t8\t6\n",
      "7\t0.00000000\t1.00000000\t8\t7\n"
     ]
    }
   ],
   "source": [
    "print(f\"Edge Table:\\n\\n {ts.tables.edges}\")"
   ]
  },
  {
   "cell_type": "markdown",
   "metadata": {
    "slideshow": {
     "slide_type": "subslide"
    }
   },
   "source": [
    "A `TreeSequence` Object contains a collection of `Tree` Objects"
   ]
  },
  {
   "cell_type": "code",
   "execution_count": 44,
   "metadata": {
    "slideshow": {
     "slide_type": "fragment"
    }
   },
   "outputs": [
    {
     "name": "stdout",
     "output_type": "stream",
     "text": [
      "<class 'tskit.trees.TreeSequence'>\n",
      "<class 'tskit.trees.TreeIterator'>\n",
      "<class 'tskit.trees.Tree'>\n",
      "There are 1 marginal trees in this tree sequence\n"
     ]
    }
   ],
   "source": [
    "print(type(ts))\n",
    "print(type(ts.trees()))\n",
    "marginal_tree_iter = ts.trees()\n",
    "print(type(next(marginal_tree_iter)))\n",
    "print(f\"There are {ts.num_trees} marginal trees in this tree sequence\")\n",
    "# print(type(next(marginal_tree_iter)))"
   ]
  },
  {
   "cell_type": "code",
   "execution_count": null,
   "metadata": {
    "slideshow": {
     "slide_type": "subslide"
    }
   },
   "outputs": [],
   "source": []
  },
  {
   "cell_type": "markdown",
   "metadata": {
    "slideshow": {
     "slide_type": "notes"
    }
   },
   "source": [
    "1. how did the tree sequence data structure improve things\n",
    "2. how does it work.\n",
    "3. Examples\n",
    "4. Cool, we've seen how this scales "
   ]
  },
  {
   "cell_type": "markdown",
   "metadata": {
    "slideshow": {
     "slide_type": "slide"
    }
   },
   "source": [
    "## Forward Time Simulation - `SLiM`"
   ]
  },
  {
   "cell_type": "markdown",
   "metadata": {
    "slideshow": {
     "slide_type": "slide"
    }
   },
   "source": [
    "1. why are fm more powerful that\n",
    "2. recording tree sequences\n",
    "3. simplification\n",
    "4. examples and results - pyslim"
   ]
  },
  {
   "cell_type": "markdown",
   "metadata": {
    "slideshow": {
     "slide_type": "slide"
    }
   },
   "source": []
  },
  {
   "cell_type": "markdown",
   "metadata": {
    "slideshow": {
     "slide_type": "slide"
    }
   },
   "source": [
    "## Other Projects\n",
    "\n",
    "* Stickleback Simulations\n",
    "* ReLERNN\n",
    "* StdPopSim\n"
   ]
  },
  {
   "cell_type": "markdown",
   "metadata": {
    "slideshow": {
     "slide_type": "slide"
    }
   },
   "source": [
    "## More people to thank\n",
    "\n",
    "* Peter Ralph\n",
    "* Andrew Kern\n",
    "* Leslie Coonrod\n",
    "* Bill Cresko\n",
    "* Stacey Wagner\n",
    "* Ben Haller\n",
    "* Jerome Kelleher\n",
    "* Clay Small\n"
   ]
  },
  {
   "cell_type": "code",
   "execution_count": null,
   "metadata": {},
   "outputs": [],
   "source": []
  }
 ],
 "metadata": {
  "celltoolbar": "Slideshow",
  "kernelspec": {
   "display_name": "Python 3",
   "language": "python",
   "name": "python3"
  },
  "language_info": {
   "codemirror_mode": {
    "name": "ipython",
    "version": 3
   },
   "file_extension": ".py",
   "mimetype": "text/x-python",
   "name": "python",
   "nbconvert_exporter": "python",
   "pygments_lexer": "ipython3",
   "version": "3.7.7"
  }
 },
 "nbformat": 4,
 "nbformat_minor": 4
}
