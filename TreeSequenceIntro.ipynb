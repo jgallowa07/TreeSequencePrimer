{
 "cells": [
  {
   "cell_type": "markdown",
   "metadata": {
    "slideshow": {
     "slide_type": "slide"
    }
   },
   "source": [
    "# *Jared Galloway*\n",
    "\n",
    "*Introduction and TreeSequence Primer*\n",
    "\n",
    "*Matsen Lab Meeting - May 15, 2020*"
   ]
  },
  {
   "cell_type": "markdown",
   "metadata": {
    "slideshow": {
     "slide_type": "subslide"
    }
   },
   "source": [
    "# *Elevator Introduction*"
   ]
  },
  {
   "cell_type": "markdown",
   "metadata": {
    "slideshow": {
     "slide_type": "fragment"
    }
   },
   "source": [
    " \n",
    "* $\\approx 6$ years ago: Undergraduate in Computer and Information Science, University of Oregon."
   ]
  },
  {
   "cell_type": "markdown",
   "metadata": {
    "slideshow": {
     "slide_type": "fragment"
    }
   },
   "source": [
    " * $\\approx 3$ years ago: Research w/ Peter Ralph at IE$^{2}$"
   ]
  },
  {
   "cell_type": "markdown",
   "metadata": {
    "slideshow": {
     "slide_type": "fragment"
    }
   },
   "source": [
    " * Gap year to continue research with Peter and Andy Kern (@pastramimachine)... (@popgengoogling?)"
   ]
  },
  {
   "cell_type": "markdown",
   "metadata": {
    "slideshow": {
     "slide_type": "fragment"
    }
   },
   "source": [
    "* Started a Masters in Biology at the University of Oregon"
   ]
  },
  {
   "cell_type": "markdown",
   "metadata": {
    "slideshow": {
     "slide_type": "subslide"
    }
   },
   "source": [
    "* Now, here I am!"
   ]
  },
  {
   "cell_type": "markdown",
   "metadata": {
    "slideshow": {
     "slide_type": "slide"
    }
   },
   "source": [
    "# *The fun stuff: TreeSequence Primer*"
   ]
  },
  {
   "cell_type": "markdown",
   "metadata": {
    "slideshow": {
     "slide_type": "fragment"
    }
   },
   "source": [
    "For a set of sampled chromosomes, at each position along the genome there is a genealogical tree that says how they are related. "
   ]
  },
  {
   "cell_type": "markdown",
   "metadata": {
    "slideshow": {
     "slide_type": "fragment"
    }
   },
   "source": [
    "The tabular data structure known as a `TreeSequence`, created by Jerome Kelleher at Oxford Big Data Institute, allows us to effeciently store these related histories and query them with a powerful and  community maintined set of tools including\n",
    "`tskit`, `mspime`, `SLiM`, `tsinfer`, and much more"
   ]
  },
  {
   "cell_type": "markdown",
   "metadata": {
    "slideshow": {
     "slide_type": "subslide"
    }
   },
   "source": [
    "![SegmentLocal](./materials/sim_ts.anim.gif \"segment\")"
   ]
  },
  {
   "cell_type": "markdown",
   "metadata": {
    "slideshow": {
     "slide_type": "slide"
    }
   },
   "source": [
    "## *Let's back up a little ... Genomes and Genealogies*"
   ]
  },
  {
   "cell_type": "markdown",
   "metadata": {
    "slideshow": {
     "slide_type": "subslide"
    }
   },
   "source": [
    "### Genomes\n",
    "\n",
    "* reflect The basic mechanisms of life!"
   ]
  },
  {
   "cell_type": "markdown",
   "metadata": {
    "slideshow": {
     "slide_type": "fragment"
    }
   },
   "source": [
    "* Are _very_ big, from $\\approx 10^{7}$ to $10^{12}$ nucleotides long"
   ]
  },
  {
   "cell_type": "markdown",
   "metadata": {
    "slideshow": {
     "slide_type": "fragment"
    }
   },
   "source": [
    "* With Next Generation Sequencing, we are able to sequence _lots_ of samples."
   ]
  },
  {
   "cell_type": "markdown",
   "metadata": {
    "slideshow": {
     "slide_type": "fragment"
    }
   },
   "source": [
    "* They are the result of the population process throughout history..."
   ]
  },
  {
   "cell_type": "markdown",
   "metadata": {
    "slideshow": {
     "slide_type": "subslide"
    }
   },
   "source": [
    "### Genealogies\n",
    "\n",
    "* a single genealogy describes the history resulting in an individual's genome."
   ]
  },
  {
   "cell_type": "markdown",
   "metadata": {
    "slideshow": {
     "slide_type": "subslide"
    }
   },
   "source": [
    "<img src=\"materials/family_tree.png\" width=\"750\" align=\"center\">\n",
    "\n",
    "[gcbias](https://gcbias.org/2013/11/11/how-does-your-number-of-genetic-ancestors-grow-back-over-time/)"
   ]
  },
  {
   "cell_type": "markdown",
   "metadata": {
    "slideshow": {
     "slide_type": "subslide"
    }
   },
   "source": [
    "<img src=\"materials/family_tree_w_trans.png\" width=\"750\" align=\"center\">\n",
    "\n",
    "[gcbias](https://gcbias.org/2013/11/11/how-does-your-number-of-genetic-ancestors-grow-back-over-time/)"
   ]
  },
  {
   "cell_type": "markdown",
   "metadata": {
    "slideshow": {
     "slide_type": "subslide"
    }
   },
   "source": [
    "* We are all related by an _expansive_ genealogical network"
   ]
  },
  {
   "cell_type": "markdown",
   "metadata": {
    "slideshow": {
     "slide_type": "fragment"
    }
   },
   "source": [
    "* We can only observe _genomes_ from recent history (with some exceptions), that have been derived from the stochastic processes of mutation and recombination throughout history. "
   ]
  },
  {
   "cell_type": "markdown",
   "metadata": {
    "slideshow": {
     "slide_type": "fragment"
    }
   },
   "source": [
    " * What can we learn about the structure, history, and biology of a _genome?_"
   ]
  },
  {
   "cell_type": "markdown",
   "metadata": {
    "slideshow": {
     "slide_type": "slide"
    }
   },
   "source": [
    "## Modeling"
   ]
  },
  {
   "cell_type": "markdown",
   "metadata": {
    "slideshow": {
     "slide_type": "fragment"
    }
   },
   "source": [
    "* Without recombination, there would be a **single** coalescent tree describing this relationship across the genome for **all** samples."
   ]
  },
  {
   "cell_type": "markdown",
   "metadata": {
    "slideshow": {
     "slide_type": "fragment"
    }
   },
   "source": [
    "* We can study the the genealogy of a single locus (w/ no recombination) using the Kingman coalescent model"
   ]
  },
  {
   "cell_type": "markdown",
   "metadata": {
    "slideshow": {
     "slide_type": "subslide"
    }
   },
   "source": [
    "<img src=\"materials/coalecent.png\" width=\"750\" align=\"center\">\n",
    "\n"
   ]
  },
  {
   "cell_type": "markdown",
   "metadata": {
    "slideshow": {
     "slide_type": "subslide"
    }
   },
   "source": [
    "* Recombination splits the ancestry on either side of the chromosome at the point where it occurs."
   ]
  },
  {
   "cell_type": "markdown",
   "metadata": {
    "slideshow": {
     "slide_type": "fragment"
    }
   },
   "source": [
    "* This means that a more complex model was needed if we wanted to study linkage between any loci passed down through generations, split by recombination."
   ]
  },
  {
   "cell_type": "markdown",
   "metadata": {
    "slideshow": {
     "slide_type": "fragment"
    }
   },
   "source": [
    "* Soon after the single locus coalescent was derived, Hudson defined an algorithm to simulate the coalescent with recombination"
   ]
  },
  {
   "cell_type": "markdown",
   "metadata": {
    "slideshow": {
     "slide_type": "fragment"
    }
   },
   "source": [
    "* These models ended up resulting what's known as the *Ancestral Recombination Graph*"
   ]
  },
  {
   "cell_type": "markdown",
   "metadata": {
    "slideshow": {
     "slide_type": "slide"
    }
   },
   "source": [
    "### The problem"
   ]
  },
  {
   "cell_type": "markdown",
   "metadata": {
    "slideshow": {
     "slide_type": "fragment"
    }
   },
   "source": [
    "* The ARG has a scaling problem with number of recombination events"
   ]
  },
  {
   "cell_type": "markdown",
   "metadata": {
    "slideshow": {
     "slide_type": "fragment"
    }
   },
   "source": [
    "* This is because essentially with each recombination event, ancestral trees split and all the information in the tree had to be copied over to a new tree."
   ]
  },
  {
   "cell_type": "markdown",
   "metadata": {
    "slideshow": {
     "slide_type": "fragment"
    }
   },
   "source": [
    "* seems to imply that simulating the coalescent with large genomes and big samples is hopeless :("
   ]
  },
  {
   "cell_type": "markdown",
   "metadata": {
    "slideshow": {
     "slide_type": "fragment"
    }
   },
   "source": [
    "* But wait!"
   ]
  },
  {
   "cell_type": "markdown",
   "metadata": {
    "slideshow": {
     "slide_type": "subslide"
    }
   },
   "source": [
    "[Jerome Kelleher, Alison Etheridge, & Gil McVean 2016](https://www.ncbi.nlm.nih.gov/pmc/articles/PMC4856371/)\n",
    "\n",
    "msprime: whole genomes with $N \\approx 10^{5}$ in O(minutes)\n",
    "<img src=\"materials/msprime-time.png\" width=\"1000\" align=\"center\">"
   ]
  },
  {
   "cell_type": "markdown",
   "metadata": {
    "slideshow": {
     "slide_type": "slide"
    }
   },
   "source": [
    "## `TreeSequence` Tabular Data Structure"
   ]
  },
  {
   "cell_type": "markdown",
   "metadata": {
    "slideshow": {
     "slide_type": "fragment"
    }
   },
   "source": [
    "* Key idea, marginal trees along the genome are _highly_ correlated with neighboring trees."
   ]
  },
  {
   "cell_type": "markdown",
   "metadata": {
    "slideshow": {
     "slide_type": "fragment"
    }
   },
   "source": [
    "* Storing a tree sequence in the four tables - nodes, edges, sites, and mutations - is succinct (no redundancy)."
   ]
  },
  {
   "cell_type": "markdown",
   "metadata": {
    "slideshow": {
     "slide_type": "subslide"
    }
   },
   "source": [
    "<img src=\"materials/example_tree_sequence.png\" width=\"1100\" align=\"center\">\n",
    "\n",
    "[Jerome Kelleher, Kevin R. Thornton, Jaime Ashander, Peter L. Ralph, 2018](https://journals.plos.org/ploscompbiol/article?id=10.1371/journal.pcbi.1006581)"
   ]
  },
  {
   "cell_type": "markdown",
   "metadata": {
    "slideshow": {
     "slide_type": "subslide"
    }
   },
   "source": [
    "<img src=\"materials/tsinfer_sizes.png\" width=\"1100\" align=\"center\">\n",
    "\n",
    "[Jerome Kelleher, Yan Wong, Patrick K. Albers, Anthony W. Wohns, Gil McVean]()"
   ]
  },
  {
   "cell_type": "markdown",
   "metadata": {
    "slideshow": {
     "slide_type": "slide"
    }
   },
   "source": [
    "## `msprime` and `tskit` python API"
   ]
  },
  {
   "cell_type": "markdown",
   "metadata": {
    "slideshow": {
     "slide_type": "fragment"
    }
   },
   "source": [
    "`msprime` is a coalescent simulator which produces `tskit.TreeSequence` objects "
   ]
  },
  {
   "cell_type": "code",
   "execution_count": 2,
   "metadata": {
    "slideshow": {
     "slide_type": "fragment"
    }
   },
   "outputs": [
    {
     "name": "stdout",
     "output_type": "stream",
     "text": [
      "  8      \n",
      "┏━┻━━┓   \n",
      "┃    7   \n",
      "┃  ┏━┻━┓ \n",
      "┃  ┃   6 \n",
      "┃  ┃  ┏┻┓\n",
      "┃  5  ┃ ┃\n",
      "┃ ┏┻┓ ┃ ┃\n",
      "0 1 4 2 3\n",
      "\n"
     ]
    }
   ],
   "source": [
    "import msprime\n",
    "ts = msprime.simulate(5, recombination_rate=0)\n",
    "print(ts.first().draw(format=\"unicode\"))"
   ]
  },
  {
   "cell_type": "markdown",
   "metadata": {
    "slideshow": {
     "slide_type": "subslide"
    }
   },
   "source": [
    "A `TreeSequence` Object contains a collection of `Tree` Objects"
   ]
  },
  {
   "cell_type": "code",
   "execution_count": 3,
   "metadata": {
    "slideshow": {
     "slide_type": "fragment"
    }
   },
   "outputs": [
    {
     "name": "stdout",
     "output_type": "stream",
     "text": [
      "<class 'tskit.trees.TreeSequence'>\n",
      "<class 'tskit.trees.TreeIterator'>\n",
      "<class 'tskit.trees.Tree'>\n",
      "There is/are 1 marginal tree(s) in this tree sequence\n"
     ]
    },
    {
     "ename": "StopIteration",
     "evalue": "",
     "output_type": "error",
     "traceback": [
      "\u001b[0;31m---------------------------------------------------------------------------\u001b[0m",
      "\u001b[0;31mStopIteration\u001b[0m                             Traceback (most recent call last)",
      "\u001b[0;32m<ipython-input-3-e3a21039a217>\u001b[0m in \u001b[0;36m<module>\u001b[0;34m\u001b[0m\n\u001b[1;32m      5\u001b[0m \u001b[0mprint\u001b[0m\u001b[0;34m(\u001b[0m\u001b[0mtype\u001b[0m\u001b[0;34m(\u001b[0m\u001b[0mnext\u001b[0m\u001b[0;34m(\u001b[0m\u001b[0mmarginal_tree_iter\u001b[0m\u001b[0;34m)\u001b[0m\u001b[0;34m)\u001b[0m\u001b[0;34m)\u001b[0m\u001b[0;34m\u001b[0m\u001b[0;34m\u001b[0m\u001b[0m\n\u001b[1;32m      6\u001b[0m \u001b[0mprint\u001b[0m\u001b[0;34m(\u001b[0m\u001b[0;34mf\"There is/are {ts.num_trees} marginal tree(s) in this tree sequence\"\u001b[0m\u001b[0;34m)\u001b[0m\u001b[0;34m\u001b[0m\u001b[0;34m\u001b[0m\u001b[0m\n\u001b[0;32m----> 7\u001b[0;31m \u001b[0mprint\u001b[0m\u001b[0;34m(\u001b[0m\u001b[0mtype\u001b[0m\u001b[0;34m(\u001b[0m\u001b[0mnext\u001b[0m\u001b[0;34m(\u001b[0m\u001b[0mmarginal_tree_iter\u001b[0m\u001b[0;34m)\u001b[0m\u001b[0;34m)\u001b[0m\u001b[0;34m)\u001b[0m\u001b[0;34m\u001b[0m\u001b[0;34m\u001b[0m\u001b[0m\n\u001b[0m",
      "\u001b[0;32m~/miniconda3/envs/ts/lib/python3.7/site-packages/tskit/trees.py\u001b[0m in \u001b[0;36m__next__\u001b[0;34m(self)\u001b[0m\n\u001b[1;32m   2119\u001b[0m             \u001b[0mself\u001b[0m\u001b[0;34m.\u001b[0m\u001b[0mmore_trees\u001b[0m \u001b[0;34m=\u001b[0m \u001b[0mself\u001b[0m\u001b[0;34m.\u001b[0m\u001b[0mmore_trees\u001b[0m \u001b[0;32mand\u001b[0m \u001b[0mself\u001b[0m\u001b[0;34m.\u001b[0m\u001b[0mtree\u001b[0m\u001b[0;34m.\u001b[0m\u001b[0mprev\u001b[0m\u001b[0;34m(\u001b[0m\u001b[0;34m)\u001b[0m\u001b[0;34m\u001b[0m\u001b[0;34m\u001b[0m\u001b[0m\n\u001b[1;32m   2120\u001b[0m         \u001b[0;32mif\u001b[0m \u001b[0;32mnot\u001b[0m \u001b[0mself\u001b[0m\u001b[0;34m.\u001b[0m\u001b[0mmore_trees\u001b[0m\u001b[0;34m:\u001b[0m\u001b[0;34m\u001b[0m\u001b[0;34m\u001b[0m\u001b[0m\n\u001b[0;32m-> 2121\u001b[0;31m             \u001b[0;32mraise\u001b[0m \u001b[0mStopIteration\u001b[0m\u001b[0;34m(\u001b[0m\u001b[0;34m)\u001b[0m\u001b[0;34m\u001b[0m\u001b[0;34m\u001b[0m\u001b[0m\n\u001b[0m\u001b[1;32m   2122\u001b[0m         \u001b[0;32mreturn\u001b[0m \u001b[0mself\u001b[0m\u001b[0;34m.\u001b[0m\u001b[0mtree\u001b[0m\u001b[0;34m\u001b[0m\u001b[0;34m\u001b[0m\u001b[0m\n\u001b[1;32m   2123\u001b[0m \u001b[0;34m\u001b[0m\u001b[0m\n",
      "\u001b[0;31mStopIteration\u001b[0m: "
     ]
    }
   ],
   "source": [
    "ts = msprime.simulate(5, recombination_rate=0)\n",
    "print(type(ts))\n",
    "print(type(ts.trees()))\n",
    "marginal_tree_iter = ts.trees()\n",
    "print(type(next(marginal_tree_iter)))\n",
    "print(f\"There is/are {ts.num_trees} marginal tree(s) in this tree sequence\")\n",
    "print(type( ))"
   ]
  },
  {
   "cell_type": "code",
   "execution_count": 5,
   "metadata": {
    "slideshow": {
     "slide_type": "subslide"
    }
   },
   "outputs": [
    {
     "name": "stdout",
     "output_type": "stream",
     "text": [
      "Tree sequence has 7 trees\n",
      "\n",
      "Tree 0 covers [0.00, 0.08); TMRCA = 4.2542\n",
      "Tree 1 covers [0.08, 0.27); TMRCA = 2.5973\n",
      "Tree 2 covers [0.27, 0.37); TMRCA = 4.2542\n",
      "Tree 3 covers [0.37, 0.66); TMRCA = 2.5973\n",
      "Tree 4 covers [0.66, 0.71); TMRCA = 4.2542\n",
      "Tree 5 covers [0.71, 0.75); TMRCA = 2.5973\n",
      "Tree 6 covers [0.75, 1.00); TMRCA = 2.5973\n"
     ]
    }
   ],
   "source": [
    "ts = msprime.simulate(5, recombination_rate=1.0, mutation_rate = 0.4, random_seed=42)\n",
    "\n",
    "print(\"Tree sequence has {} trees\".format(ts.num_trees))\n",
    "print()\n",
    "for tree in ts.trees():\n",
    "    print(\n",
    "        \"Tree {} covers [{:.2f}, {:.2f}); TMRCA = {:.4f}\".format(\n",
    "            tree.index, *tree.interval, tree.time(tree.root)\n",
    "        )\n",
    "    )"
   ]
  },
  {
   "cell_type": "code",
   "execution_count": 6,
   "metadata": {
    "slideshow": {
     "slide_type": "subslide"
    }
   },
   "outputs": [
    {
     "data": {
      "image/svg+xml": [
       "<svg baseProfile=\"full\" height=\"200\" version=\"1.1\" width=\"1400\" xmlns=\"http://www.w3.org/2000/svg\" xmlns:ev=\"http://www.w3.org/2001/xml-events\" xmlns:xlink=\"http://www.w3.org/1999/xlink\"><defs><g id=\"tree_0\"><g fill=\"none\" id=\"edges\" stroke=\"black\"><path d=\"M 53.57142857142858 133.92509413174645 V 30.0 H 86.25\" id=\"edge_0_6\"/><path d=\"M 39.04761904761905 140.0 V 133.92509413174645 H 53.57142857142858\" id=\"edge_0_2\"/><path d=\"M 68.0952380952381 140.0 V 133.92509413174645 H 53.57142857142858\" id=\"edge_0_3\"/><path d=\"M 118.92857142857144 72.84337618837768 V 30.0 H 86.25\" id=\"edge_0_11\"/><path d=\"M 97.14285714285715 140.0 V 72.84337618837768 H 118.92857142857144\" id=\"edge_0_1\"/><path d=\"M 140.71428571428572 107.71002825137668 V 72.84337618837768 H 118.92857142857144\" id=\"edge_0_9\"/><path d=\"M 126.1904761904762 140.0 V 107.71002825137668 H 140.71428571428572\" id=\"edge_0_0\"/><path d=\"M 155.23809523809524 140.0 V 107.71002825137668 H 140.71428571428572\" id=\"edge_0_4\"/></g><g id=\"symbols\"><g class=\"nodes\"><circle cx=\"86.25\" cy=\"30.0\" id=\"node_0_12\" r=\"3\"/><circle cx=\"53.57142857142858\" cy=\"133.92509413174645\" id=\"node_0_6\" r=\"3\"/><circle cx=\"39.04761904761905\" cy=\"140.0\" id=\"node_0_2\" r=\"3\"/><circle cx=\"68.0952380952381\" cy=\"140.0\" id=\"node_0_3\" r=\"3\"/><circle cx=\"118.92857142857144\" cy=\"72.84337618837768\" id=\"node_0_11\" r=\"3\"/><circle cx=\"97.14285714285715\" cy=\"140.0\" id=\"node_0_1\" r=\"3\"/><circle cx=\"140.71428571428572\" cy=\"107.71002825137668\" id=\"node_0_9\" r=\"3\"/><circle cx=\"126.1904761904762\" cy=\"140.0\" id=\"node_0_0\" r=\"3\"/><circle cx=\"155.23809523809524\" cy=\"140.0\" id=\"node_0_4\" r=\"3\"/></g><g class=\"mutations\" fill=\"red\"><rect height=\"6\" transform=\"translate(-3, -3)\" width=\"6\" x=\"53.57142857142858\" y=\"81.96254706587322\"/></g></g><g font-size=\"14\" id=\"labels\"><g class=\"nodes\"><g text-anchor=\"start\"><text x=\"123.92857142857144\" y=\"67.84337618837768\">11</text><text x=\"145.71428571428572\" y=\"102.71002825137668\">9</text></g><g text-anchor=\"middle\"><text x=\"86.25\" y=\"25.0\">12</text><text x=\"39.04761904761905\" y=\"160.0\">2</text><text x=\"68.0952380952381\" y=\"160.0\">3</text><text x=\"97.14285714285715\" y=\"160.0\">1</text><text x=\"126.1904761904762\" y=\"160.0\">0</text><text x=\"155.23809523809524\" y=\"160.0\">4</text></g><g text-anchor=\"end\"><text x=\"48.57142857142858\" y=\"128.92509413174645\">6</text></g></g><g class=\"mutations\" font-style=\"italic\"><g text-anchor=\"start\"/><g text-anchor=\"end\"><text x=\"48.57142857142858\" y=\"85.96254706587322\">0</text></g></g></g></g><g id=\"tree_1\"><g fill=\"none\" id=\"edges\" stroke=\"black\"><path d=\"M 39.04761904761905 140.0 V 72.84337618837768 H 66.27976190476191\" id=\"edge_1_1\"/><path d=\"M 93.51190476190477 107.71002825137668 V 72.84337618837768 H 66.27976190476191\" id=\"edge_1_9\"/><path d=\"M 68.0952380952381 140.0 V 107.71002825137668 H 93.51190476190477\" id=\"edge_1_0\"/><path d=\"M 118.92857142857144 110.57804138122748 V 107.71002825137668 H 93.51190476190477\" id=\"edge_1_8\"/><path d=\"M 97.14285714285715 140.0 V 110.57804138122748 H 118.92857142857144\" id=\"edge_1_4\"/><path d=\"M 140.71428571428572 133.92509413174645 V 110.57804138122748 H 118.92857142857144\" id=\"edge_1_6\"/><path d=\"M 126.1904761904762 140.0 V 133.92509413174645 H 140.71428571428572\" id=\"edge_1_2\"/><path d=\"M 155.23809523809524 140.0 V 133.92509413174645 H 140.71428571428572\" id=\"edge_1_3\"/></g><g id=\"symbols\"><g class=\"nodes\"><circle cx=\"66.27976190476191\" cy=\"72.84337618837768\" id=\"node_1_11\" r=\"3\"/><circle cx=\"39.04761904761905\" cy=\"140.0\" id=\"node_1_1\" r=\"3\"/><circle cx=\"93.51190476190477\" cy=\"107.71002825137668\" id=\"node_1_9\" r=\"3\"/><circle cx=\"68.0952380952381\" cy=\"140.0\" id=\"node_1_0\" r=\"3\"/><circle cx=\"118.92857142857144\" cy=\"110.57804138122748\" id=\"node_1_8\" r=\"3\"/><circle cx=\"97.14285714285715\" cy=\"140.0\" id=\"node_1_4\" r=\"3\"/><circle cx=\"140.71428571428572\" cy=\"133.92509413174645\" id=\"node_1_6\" r=\"3\"/><circle cx=\"126.1904761904762\" cy=\"140.0\" id=\"node_1_2\" r=\"3\"/><circle cx=\"155.23809523809524\" cy=\"140.0\" id=\"node_1_3\" r=\"3\"/></g><g class=\"mutations\" fill=\"red\"><rect height=\"6\" transform=\"translate(-3, -3)\" width=\"6\" x=\"39.04761904761905\" y=\"106.42168809418884\"/></g></g><g font-size=\"14\" id=\"labels\"><g class=\"nodes\"><g text-anchor=\"start\"><text x=\"98.51190476190477\" y=\"102.71002825137668\">9</text><text x=\"123.92857142857144\" y=\"105.57804138122748\">8</text><text x=\"145.71428571428572\" y=\"128.92509413174645\">6</text></g><g text-anchor=\"middle\"><text x=\"66.27976190476191\" y=\"67.84337618837768\">11</text><text x=\"39.04761904761905\" y=\"160.0\">1</text><text x=\"68.0952380952381\" y=\"160.0\">0</text><text x=\"97.14285714285715\" y=\"160.0\">4</text><text x=\"126.1904761904762\" y=\"160.0\">2</text><text x=\"155.23809523809524\" y=\"160.0\">3</text></g><g text-anchor=\"end\"/></g><g class=\"mutations\" font-style=\"italic\"><g text-anchor=\"start\"/><g text-anchor=\"end\"><text x=\"34.04761904761905\" y=\"110.42168809418884\">1</text></g></g></g></g><g id=\"tree_2\"><g fill=\"none\" id=\"edges\" stroke=\"black\"><path d=\"M 39.04761904761905 140.0 V 30.0 H 66.27976190476191\" id=\"edge_2_4\"/><path d=\"M 93.51190476190477 72.84337618837768 V 30.0 H 66.27976190476191\" id=\"edge_2_11\"/><path d=\"M 68.0952380952381 140.0 V 72.84337618837768 H 93.51190476190477\" id=\"edge_2_1\"/><path d=\"M 118.92857142857144 107.71002825137668 V 72.84337618837768 H 93.51190476190477\" id=\"edge_2_9\"/><path d=\"M 97.14285714285715 140.0 V 107.71002825137668 H 118.92857142857144\" id=\"edge_2_0\"/><path d=\"M 140.71428571428572 133.92509413174645 V 107.71002825137668 H 118.92857142857144\" id=\"edge_2_6\"/><path d=\"M 126.1904761904762 140.0 V 133.92509413174645 H 140.71428571428572\" id=\"edge_2_2\"/><path d=\"M 155.23809523809524 140.0 V 133.92509413174645 H 140.71428571428572\" id=\"edge_2_3\"/></g><g id=\"symbols\"><g class=\"nodes\"><circle cx=\"66.27976190476191\" cy=\"30.0\" id=\"node_2_12\" r=\"3\"/><circle cx=\"39.04761904761905\" cy=\"140.0\" id=\"node_2_4\" r=\"3\"/><circle cx=\"93.51190476190477\" cy=\"72.84337618837768\" id=\"node_2_11\" r=\"3\"/><circle cx=\"68.0952380952381\" cy=\"140.0\" id=\"node_2_1\" r=\"3\"/><circle cx=\"118.92857142857144\" cy=\"107.71002825137668\" id=\"node_2_9\" r=\"3\"/><circle cx=\"97.14285714285715\" cy=\"140.0\" id=\"node_2_0\" r=\"3\"/><circle cx=\"140.71428571428572\" cy=\"133.92509413174645\" id=\"node_2_6\" r=\"3\"/><circle cx=\"126.1904761904762\" cy=\"140.0\" id=\"node_2_2\" r=\"3\"/><circle cx=\"155.23809523809524\" cy=\"140.0\" id=\"node_2_3\" r=\"3\"/></g><g class=\"mutations\" fill=\"red\"><rect height=\"6\" transform=\"translate(-3, -3)\" width=\"6\" x=\"39.04761904761905\" y=\"85.0\"/></g></g><g font-size=\"14\" id=\"labels\"><g class=\"nodes\"><g text-anchor=\"start\"><text x=\"98.51190476190477\" y=\"67.84337618837768\">11</text><text x=\"123.92857142857144\" y=\"102.71002825137668\">9</text><text x=\"145.71428571428572\" y=\"128.92509413174645\">6</text></g><g text-anchor=\"middle\"><text x=\"66.27976190476191\" y=\"25.0\">12</text><text x=\"39.04761904761905\" y=\"160.0\">4</text><text x=\"68.0952380952381\" y=\"160.0\">1</text><text x=\"97.14285714285715\" y=\"160.0\">0</text><text x=\"126.1904761904762\" y=\"160.0\">2</text><text x=\"155.23809523809524\" y=\"160.0\">3</text></g><g text-anchor=\"end\"/></g><g class=\"mutations\" font-style=\"italic\"><g text-anchor=\"start\"/><g text-anchor=\"end\"><text x=\"34.04761904761905\" y=\"89.0\">2</text></g></g></g></g><g id=\"tree_3\"><g fill=\"none\" id=\"edges\" stroke=\"black\"><path d=\"M 60.833333333333336 107.71002825137668 V 72.84337618837768 H 100.77380952380952\" id=\"edge_3_9\"/><path d=\"M 39.04761904761905 140.0 V 107.71002825137668 H 60.833333333333336\" id=\"edge_3_0\"/><path d=\"M 82.61904761904762 133.92509413174645 V 107.71002825137668 H 60.833333333333336\" id=\"edge_3_6\"/><path d=\"M 68.0952380952381 140.0 V 133.92509413174645 H 82.61904761904762\" id=\"edge_3_2\"/><path d=\"M 97.14285714285715 140.0 V 133.92509413174645 H 82.61904761904762\" id=\"edge_3_3\"/><path d=\"M 140.71428571428572 82.90246694285747 V 72.84337618837768 H 100.77380952380952\" id=\"edge_3_10\"/><path d=\"M 126.1904761904762 140.0 V 82.90246694285747 H 140.71428571428572\" id=\"edge_3_1\"/><path d=\"M 155.23809523809524 140.0 V 82.90246694285747 H 140.71428571428572\" id=\"edge_3_4\"/></g><g id=\"symbols\"><g class=\"nodes\"><circle cx=\"100.77380952380952\" cy=\"72.84337618837768\" id=\"node_3_11\" r=\"3\"/><circle cx=\"60.833333333333336\" cy=\"107.71002825137668\" id=\"node_3_9\" r=\"3\"/><circle cx=\"39.04761904761905\" cy=\"140.0\" id=\"node_3_0\" r=\"3\"/><circle cx=\"82.61904761904762\" cy=\"133.92509413174645\" id=\"node_3_6\" r=\"3\"/><circle cx=\"68.0952380952381\" cy=\"140.0\" id=\"node_3_2\" r=\"3\"/><circle cx=\"97.14285714285715\" cy=\"140.0\" id=\"node_3_3\" r=\"3\"/><circle cx=\"140.71428571428572\" cy=\"82.90246694285747\" id=\"node_3_10\" r=\"3\"/><circle cx=\"126.1904761904762\" cy=\"140.0\" id=\"node_3_1\" r=\"3\"/><circle cx=\"155.23809523809524\" cy=\"140.0\" id=\"node_3_4\" r=\"3\"/></g><g class=\"mutations\" fill=\"red\"><rect height=\"6\" transform=\"translate(-3, -3)\" width=\"6\" x=\"126.1904761904762\" y=\"111.45123347142874\"/></g></g><g font-size=\"14\" id=\"labels\"><g class=\"nodes\"><g text-anchor=\"start\"><text x=\"87.61904761904762\" y=\"128.92509413174645\">6</text><text x=\"145.71428571428572\" y=\"77.90246694285747\">10</text></g><g text-anchor=\"middle\"><text x=\"100.77380952380952\" y=\"67.84337618837768\">11</text><text x=\"39.04761904761905\" y=\"160.0\">0</text><text x=\"68.0952380952381\" y=\"160.0\">2</text><text x=\"97.14285714285715\" y=\"160.0\">3</text><text x=\"126.1904761904762\" y=\"160.0\">1</text><text x=\"155.23809523809524\" y=\"160.0\">4</text></g><g text-anchor=\"end\"><text x=\"55.833333333333336\" y=\"102.71002825137668\">9</text></g></g><g class=\"mutations\" font-style=\"italic\"><g text-anchor=\"start\"/><g text-anchor=\"end\"><text x=\"121.1904761904762\" y=\"115.45123347142874\">3</text></g></g></g></g><g id=\"tree_4\"><g fill=\"none\" id=\"edges\" stroke=\"black\"><path d=\"M 39.04761904761905 140.0 V 30.0 H 80.80357142857144\" id=\"edge_4_1\"/><path d=\"M 122.55952380952382 72.84337618837768 V 30.0 H 80.80357142857144\" id=\"edge_4_11\"/><path d=\"M 89.8809523809524 107.71002825137668 V 72.84337618837768 H 122.55952380952382\" id=\"edge_4_9\"/><path d=\"M 68.0952380952381 140.0 V 107.71002825137668 H 89.8809523809524\" id=\"edge_4_0\"/><path d=\"M 111.66666666666669 133.92509413174645 V 107.71002825137668 H 89.8809523809524\" id=\"edge_4_6\"/><path d=\"M 97.14285714285715 140.0 V 133.92509413174645 H 111.66666666666669\" id=\"edge_4_2\"/><path d=\"M 126.1904761904762 140.0 V 133.92509413174645 H 111.66666666666669\" id=\"edge_4_3\"/><path d=\"M 155.23809523809524 140.0 V 72.84337618837768 H 122.55952380952382\" id=\"edge_4_4\"/></g><g id=\"symbols\"><g class=\"nodes\"><circle cx=\"80.80357142857144\" cy=\"30.0\" id=\"node_4_12\" r=\"3\"/><circle cx=\"39.04761904761905\" cy=\"140.0\" id=\"node_4_1\" r=\"3\"/><circle cx=\"122.55952380952382\" cy=\"72.84337618837768\" id=\"node_4_11\" r=\"3\"/><circle cx=\"89.8809523809524\" cy=\"107.71002825137668\" id=\"node_4_9\" r=\"3\"/><circle cx=\"68.0952380952381\" cy=\"140.0\" id=\"node_4_0\" r=\"3\"/><circle cx=\"111.66666666666669\" cy=\"133.92509413174645\" id=\"node_4_6\" r=\"3\"/><circle cx=\"97.14285714285715\" cy=\"140.0\" id=\"node_4_2\" r=\"3\"/><circle cx=\"126.1904761904762\" cy=\"140.0\" id=\"node_4_3\" r=\"3\"/><circle cx=\"155.23809523809524\" cy=\"140.0\" id=\"node_4_4\" r=\"3\"/></g><g class=\"mutations\" fill=\"red\"/></g><g font-size=\"14\" id=\"labels\"><g class=\"nodes\"><g text-anchor=\"start\"><text x=\"127.55952380952382\" y=\"67.84337618837768\">11</text><text x=\"116.66666666666669\" y=\"128.92509413174645\">6</text></g><g text-anchor=\"middle\"><text x=\"80.80357142857144\" y=\"25.0\">12</text><text x=\"39.04761904761905\" y=\"160.0\">1</text><text x=\"68.0952380952381\" y=\"160.0\">0</text><text x=\"97.14285714285715\" y=\"160.0\">2</text><text x=\"126.1904761904762\" y=\"160.0\">3</text><text x=\"155.23809523809524\" y=\"160.0\">4</text></g><g text-anchor=\"end\"><text x=\"84.8809523809524\" y=\"102.71002825137668\">9</text></g></g><g class=\"mutations\" font-style=\"italic\"><g text-anchor=\"start\"/><g text-anchor=\"end\"/></g></g></g><g id=\"tree_5\"><g fill=\"none\" id=\"edges\" stroke=\"black\"><path d=\"M 64.46428571428572 107.71002825137668 V 72.84337618837768 H 109.85119047619048\" id=\"edge_5_9\"/><path d=\"M 39.04761904761905 140.0 V 107.71002825137668 H 64.46428571428572\" id=\"edge_5_0\"/><path d=\"M 89.8809523809524 113.32674403958131 V 107.71002825137668 H 64.46428571428572\" id=\"edge_5_7\"/><path d=\"M 68.0952380952381 140.0 V 113.32674403958131 H 89.8809523809524\" id=\"edge_5_1\"/><path d=\"M 111.66666666666669 133.92509413174645 V 113.32674403958131 H 89.8809523809524\" id=\"edge_5_6\"/><path d=\"M 97.14285714285715 140.0 V 133.92509413174645 H 111.66666666666669\" id=\"edge_5_2\"/><path d=\"M 126.1904761904762 140.0 V 133.92509413174645 H 111.66666666666669\" id=\"edge_5_3\"/><path d=\"M 155.23809523809524 140.0 V 72.84337618837768 H 109.85119047619048\" id=\"edge_5_4\"/></g><g id=\"symbols\"><g class=\"nodes\"><circle cx=\"109.85119047619048\" cy=\"72.84337618837768\" id=\"node_5_11\" r=\"3\"/><circle cx=\"64.46428571428572\" cy=\"107.71002825137668\" id=\"node_5_9\" r=\"3\"/><circle cx=\"39.04761904761905\" cy=\"140.0\" id=\"node_5_0\" r=\"3\"/><circle cx=\"89.8809523809524\" cy=\"113.32674403958131\" id=\"node_5_7\" r=\"3\"/><circle cx=\"68.0952380952381\" cy=\"140.0\" id=\"node_5_1\" r=\"3\"/><circle cx=\"111.66666666666669\" cy=\"133.92509413174645\" id=\"node_5_6\" r=\"3\"/><circle cx=\"97.14285714285715\" cy=\"140.0\" id=\"node_5_2\" r=\"3\"/><circle cx=\"126.1904761904762\" cy=\"140.0\" id=\"node_5_3\" r=\"3\"/><circle cx=\"155.23809523809524\" cy=\"140.0\" id=\"node_5_4\" r=\"3\"/></g><g class=\"mutations\" fill=\"red\"/></g><g font-size=\"14\" id=\"labels\"><g class=\"nodes\"><g text-anchor=\"start\"><text x=\"94.8809523809524\" y=\"108.32674403958131\">7</text><text x=\"116.66666666666669\" y=\"128.92509413174645\">6</text></g><g text-anchor=\"middle\"><text x=\"109.85119047619048\" y=\"67.84337618837768\">11</text><text x=\"39.04761904761905\" y=\"160.0\">0</text><text x=\"68.0952380952381\" y=\"160.0\">1</text><text x=\"97.14285714285715\" y=\"160.0\">2</text><text x=\"126.1904761904762\" y=\"160.0\">3</text><text x=\"155.23809523809524\" y=\"160.0\">4</text></g><g text-anchor=\"end\"><text x=\"59.46428571428572\" y=\"102.71002825137668\">9</text></g></g><g class=\"mutations\" font-style=\"italic\"><g text-anchor=\"start\"/><g text-anchor=\"end\"/></g></g></g><g id=\"tree_6\"><g fill=\"none\" id=\"edges\" stroke=\"black\"><path d=\"M 39.04761904761905 140.0 V 72.84337618837768 H 66.27976190476191\" id=\"edge_6_4\"/><path d=\"M 93.51190476190477 113.32674403958131 V 72.84337618837768 H 66.27976190476191\" id=\"edge_6_7\"/><path d=\"M 68.0952380952381 140.0 V 113.32674403958131 H 93.51190476190477\" id=\"edge_6_1\"/><path d=\"M 118.92857142857144 133.92509413174645 V 113.32674403958131 H 93.51190476190477\" id=\"edge_6_6\"/><path d=\"M 97.14285714285715 140.0 V 133.92509413174645 H 118.92857142857144\" id=\"edge_6_2\"/><path d=\"M 140.71428571428572 134.28823276050284 V 133.92509413174645 H 118.92857142857144\" id=\"edge_6_5\"/><path d=\"M 126.1904761904762 140.0 V 134.28823276050284 H 140.71428571428572\" id=\"edge_6_0\"/><path d=\"M 155.23809523809524 140.0 V 134.28823276050284 H 140.71428571428572\" id=\"edge_6_3\"/></g><g id=\"symbols\"><g class=\"nodes\"><circle cx=\"66.27976190476191\" cy=\"72.84337618837768\" id=\"node_6_11\" r=\"3\"/><circle cx=\"39.04761904761905\" cy=\"140.0\" id=\"node_6_4\" r=\"3\"/><circle cx=\"93.51190476190477\" cy=\"113.32674403958131\" id=\"node_6_7\" r=\"3\"/><circle cx=\"68.0952380952381\" cy=\"140.0\" id=\"node_6_1\" r=\"3\"/><circle cx=\"118.92857142857144\" cy=\"133.92509413174645\" id=\"node_6_6\" r=\"3\"/><circle cx=\"97.14285714285715\" cy=\"140.0\" id=\"node_6_2\" r=\"3\"/><circle cx=\"140.71428571428572\" cy=\"134.28823276050284\" id=\"node_6_5\" r=\"3\"/><circle cx=\"126.1904761904762\" cy=\"140.0\" id=\"node_6_0\" r=\"3\"/><circle cx=\"155.23809523809524\" cy=\"140.0\" id=\"node_6_3\" r=\"3\"/></g><g class=\"mutations\" fill=\"red\"/></g><g font-size=\"14\" id=\"labels\"><g class=\"nodes\"><g text-anchor=\"start\"><text x=\"98.51190476190477\" y=\"108.32674403958131\">7</text><text x=\"123.92857142857144\" y=\"128.92509413174645\">6</text><text x=\"145.71428571428572\" y=\"129.28823276050284\">5</text></g><g text-anchor=\"middle\"><text x=\"66.27976190476191\" y=\"67.84337618837768\">11</text><text x=\"39.04761904761905\" y=\"160.0\">4</text><text x=\"68.0952380952381\" y=\"160.0\">1</text><text x=\"97.14285714285715\" y=\"160.0\">2</text><text x=\"126.1904761904762\" y=\"160.0\">0</text><text x=\"155.23809523809524\" y=\"160.0\">3</text></g><g text-anchor=\"end\"/></g><g class=\"mutations\" font-style=\"italic\"><g text-anchor=\"start\"/><g text-anchor=\"end\"/></g></g></g></defs><use x=\"20\" xlink:href=\"#tree_0\" y=\"15\"/><use x=\"214.28571428571428\" xlink:href=\"#tree_1\" y=\"15\"/><use x=\"408.57142857142856\" xlink:href=\"#tree_2\" y=\"15\"/><use x=\"602.8571428571429\" xlink:href=\"#tree_3\" y=\"15\"/><use x=\"797.1428571428571\" xlink:href=\"#tree_4\" y=\"15\"/><use x=\"991.4285714285713\" xlink:href=\"#tree_5\" y=\"15\"/><use x=\"1185.7142857142856\" xlink:href=\"#tree_6\" y=\"15\"/><line stroke=\"black\" x1=\"20\" x2=\"1380\" y1=\"180\" y2=\"180\"/><line stroke=\"black\" x1=\"20\" x2=\"20\" y1=\"175\" y2=\"185\"/><text font-size=\"14\" font-weight=\"bold\" text-anchor=\"middle\" x=\"20\" y=\"200\">0.00</text><line stroke=\"black\" x1=\"214.28571428571428\" x2=\"214.28571428571428\" y1=\"175\" y2=\"185\"/><text font-size=\"14\" font-weight=\"bold\" text-anchor=\"middle\" x=\"214.28571428571428\" y=\"200\">0.08</text><line stroke=\"black\" x1=\"408.57142857142856\" x2=\"408.57142857142856\" y1=\"175\" y2=\"185\"/><text font-size=\"14\" font-weight=\"bold\" text-anchor=\"middle\" x=\"408.57142857142856\" y=\"200\">0.27</text><line stroke=\"black\" x1=\"602.8571428571429\" x2=\"602.8571428571429\" y1=\"175\" y2=\"185\"/><text font-size=\"14\" font-weight=\"bold\" text-anchor=\"middle\" x=\"602.8571428571429\" y=\"200\">0.37</text><line stroke=\"black\" x1=\"797.1428571428571\" x2=\"797.1428571428571\" y1=\"175\" y2=\"185\"/><text font-size=\"14\" font-weight=\"bold\" text-anchor=\"middle\" x=\"797.1428571428571\" y=\"200\">0.66</text><line stroke=\"black\" x1=\"991.4285714285713\" x2=\"991.4285714285713\" y1=\"175\" y2=\"185\"/><text font-size=\"14\" font-weight=\"bold\" text-anchor=\"middle\" x=\"991.4285714285713\" y=\"200\">0.71</text><line stroke=\"black\" x1=\"1185.7142857142856\" x2=\"1185.7142857142856\" y1=\"175\" y2=\"185\"/><text font-size=\"14\" font-weight=\"bold\" text-anchor=\"middle\" x=\"1185.7142857142856\" y=\"200\">0.75</text><line stroke=\"black\" x1=\"1379.9999999999998\" x2=\"1379.9999999999998\" y1=\"175\" y2=\"185\"/><text font-size=\"14\" font-weight=\"bold\" text-anchor=\"middle\" x=\"1379.9999999999998\" y=\"200\">1.00</text></svg>"
      ],
      "text/plain": [
       "<IPython.core.display.SVG object>"
      ]
     },
     "execution_count": 6,
     "metadata": {},
     "output_type": "execute_result"
    }
   ],
   "source": [
    "from IPython.display import SVG \n",
    "SVG(ts.draw_svg())"
   ]
  },
  {
   "cell_type": "code",
   "execution_count": 7,
   "metadata": {
    "slideshow": {
     "slide_type": "fragment"
    }
   },
   "outputs": [
    {
     "name": "stdout",
     "output_type": "stream",
     "text": [
      "[[0 0 1 1 0]\n",
      " [0 1 0 0 0]\n",
      " [0 0 0 0 1]\n",
      " [0 1 0 0 0]]\n"
     ]
    }
   ],
   "source": [
    "print(ts.genotype_matrix())"
   ]
  },
  {
   "cell_type": "code",
   "execution_count": 8,
   "metadata": {
    "scrolled": true,
    "slideshow": {
     "slide_type": "subslide"
    }
   },
   "outputs": [
    {
     "name": "stdout",
     "output_type": "stream",
     "text": [
      "Node Table:\n",
      "\n",
      " id\tflags\tpopulation\tindividual\ttime\tmetadata\n",
      "0\t1\t0\t-1\t0.00000000000000\t\n",
      "1\t1\t0\t-1\t0.00000000000000\t\n",
      "2\t1\t0\t-1\t0.00000000000000\t\n",
      "3\t1\t0\t-1\t0.00000000000000\t\n",
      "4\t1\t0\t-1\t0.00000000000000\t\n",
      "5\t0\t0\t-1\t0.22090207671051\t\n",
      "6\t0\t0\t-1\t0.23494643003628\t\n",
      "7\t0\t0\t-1\t1.03158573996900\t\n",
      "8\t0\t0\t-1\t1.13789156442405\t\n",
      "9\t0\t0\t-1\t1.24881171047552\t\n",
      "10\t0\t0\t-1\t2.20824188005252\t\n",
      "11\t0\t0\t-1\t2.59727629695212\t\n",
      "12\t0\t0\t-1\t4.25423996099234\t \n",
      "####################\n",
      "\n",
      "Edge Table:\n",
      "\n",
      " id\tleft\t\tright\t\tparent\tchild\n",
      "0\t0.75357156\t1.00000000\t5\t0\n",
      "1\t0.75357156\t1.00000000\t5\t3\n",
      "2\t0.00000000\t1.00000000\t6\t2\n",
      "3\t0.00000000\t0.75357156\t6\t3\n",
      "4\t0.75357156\t1.00000000\t6\t5\n",
      "5\t0.71007405\t1.00000000\t7\t1\n",
      "6\t0.71007405\t1.00000000\t7\t6\n",
      "7\t0.07726539\t0.26805689\t8\t4\n",
      "8\t0.07726539\t0.26805689\t8\t6\n",
      "9\t0.00000000\t0.75357156\t9\t0\n",
      "10\t0.00000000\t0.07726539\t9\t4\n",
      "11\t0.26805689\t0.71007405\t9\t6\n",
      "12\t0.71007405\t0.75357156\t9\t7\n",
      "13\t0.07726539\t0.26805689\t9\t8\n",
      "14\t0.37196769\t0.66462851\t10\t1\n",
      "15\t0.37196769\t0.66462851\t10\t4\n",
      "16\t0.00000000\t0.37196769\t11\t1\n",
      "17\t0.66462851\t1.00000000\t11\t4\n",
      "18\t0.75357156\t1.00000000\t11\t7\n",
      "19\t0.00000000\t0.75357156\t11\t9\n",
      "20\t0.37196769\t0.66462851\t11\t10\n",
      "21\t0.66462851\t0.71007405\t12\t1\n",
      "22\t0.26805689\t0.37196769\t12\t4\n",
      "23\t0.00000000\t0.07726539\t12\t6\n",
      "24\t0.00000000\t0.07726539\t12\t11\n",
      "25\t0.26805689\t0.37196769\t12\t11\n",
      "26\t0.66462851\t0.71007405\t12\t11 \n",
      "####################\n",
      "\n",
      "\n",
      "Sites Table:\n",
      "\n",
      " id\tposition\tancestral_state\tmetadata\n",
      "0\t0.06913918\t0\t\n",
      "1\t0.15814425\t0\t\n",
      "2\t0.34860156\t0\t\n",
      "3\t0.44770245\t0\t \n",
      "####################\n",
      "\n",
      "\n",
      "Mutation Table:\n",
      "\n",
      " id\tsite\tnode\tderived_state\tparent\tmetadata\n",
      "0\t0\t6\t1\t-1\t\n",
      "1\t1\t1\t1\t-1\t\n",
      "2\t2\t4\t1\t-1\t\n",
      "3\t3\t1\t1\t-1\t \n",
      "####################\n",
      "\n",
      "\n"
     ]
    }
   ],
   "source": [
    "print(f\"Node Table:\\n\\n {ts.tables.nodes} \\n####################\\n\")\n",
    "print(f\"Edge Table:\\n\\n {ts.tables.edges} \\n####################\\n\\n\")\n",
    "print(f\"Sites Table:\\n\\n {ts.tables.sites} \\n####################\\n\\n\")\n",
    "print(f\"Mutation Table:\\n\\n {ts.tables.mutations} \\n####################\\n\\n\")"
   ]
  },
  {
   "cell_type": "markdown",
   "metadata": {
    "slideshow": {
     "slide_type": "subslide"
    }
   },
   "source": [
    "Lots more options for complex coalescent simulation!"
   ]
  },
  {
   "cell_type": "code",
   "execution_count": 9,
   "metadata": {
    "slideshow": {
     "slide_type": "fragment"
    }
   },
   "outputs": [
    {
     "name": "stdout",
     "output_type": "stream",
     "text": [
      "Help on function simulate in module msprime.simulations:\n",
      "\n",
      "simulate(sample_size=None, Ne=1, length=None, recombination_rate=None, recombination_map=None, mutation_rate=None, population_configurations=None, migration_matrix=None, demographic_events=[], samples=None, model=None, record_migrations=False, random_seed=None, mutation_generator=None, num_replicates=None, from_ts=None, start_time=None, end_time=None, record_full_arg=False, num_labels=None)\n",
      "    Simulates the coalescent with recombination under the specified model\n",
      "    parameters and returns the resulting :class:`tskit.TreeSequence`. Note that\n",
      "    Ne is the effective diploid population size (so the effective number\n",
      "    of genomes in the population is 2*Ne), but ``sample_size`` is the\n",
      "    number of (monoploid) genomes sampled.\n",
      "    \n",
      "    :param int sample_size: The number of sampled monoploid genomes.  If not\n",
      "        specified or None, this defaults to the sum of the subpopulation sample\n",
      "        sizes. Either ``sample_size``, ``population_configurations`` or\n",
      "        ``samples`` must be specified.\n",
      "    :param float Ne: The effective (diploid) population size for the reference\n",
      "        population. This defaults to 1 if not specified.\n",
      "    :param float length: The length of the simulated region in bases.\n",
      "        This parameter cannot be used along with ``recombination_map``.\n",
      "        Defaults to 1 if not specified.\n",
      "    :param float recombination_rate: The rate of recombination per base\n",
      "        per generation. This parameter cannot be used along with\n",
      "        ``recombination_map``. Defaults to 0 if not specified.\n",
      "    :param recombination_map: The map\n",
      "        describing the changing rates of recombination along the simulated\n",
      "        chromosome. This parameter cannot be used along with the\n",
      "        ``recombination_rate`` or ``length`` parameters, as these\n",
      "        values are encoded within the map. Defaults to a uniform rate as\n",
      "        described in the ``recombination_rate`` parameter if not specified.\n",
      "    :type recombination_map: :class:`.RecombinationMap`\n",
      "    :param float mutation_rate: The rate of infinite sites\n",
      "        mutations per unit of sequence length per generation.\n",
      "        If not specified, no mutations are generated. This option only\n",
      "        allows for infinite sites mutations with a binary (i.e., 0/1)\n",
      "        alphabet. For more control over the mutational process, please\n",
      "        use the :func:`.mutate` function.\n",
      "    :param list population_configurations: The list of\n",
      "        :class:`.PopulationConfiguration` instances describing the\n",
      "        sampling configuration, relative sizes and growth rates of\n",
      "        the populations to be simulated. If this is not specified,\n",
      "        a single population with a sample of size ``sample_size``\n",
      "        is assumed.\n",
      "    :type population_configurations: list or None.\n",
      "    :param list migration_matrix: The matrix describing the rates\n",
      "        of migration between all pairs of populations. If :math:`N`\n",
      "        populations are defined in the ``population_configurations``\n",
      "        parameter, then the migration matrix must be an\n",
      "        :math:`N \\times N` matrix with 0 on the diagonal, consisting of\n",
      "        :math:`N` lists of length :math:`N` or an :math:`N \\times N` numpy\n",
      "        array, with the [j, k]th element giving the fraction of\n",
      "        population j that consists of migrants from population k in each\n",
      "        generation.\n",
      "    :param list demographic_events: The list of demographic events to\n",
      "        simulate. Demographic events describe changes to the populations\n",
      "        in the past. Events should be supplied in non-decreasing\n",
      "        order of time in the past. Events with the same time value will be\n",
      "        applied sequentially in the order that they were supplied before the\n",
      "        simulation algorithm continues with the next time step.\n",
      "    :param list samples: The list specifying the location and time of\n",
      "        all samples. This parameter may be used to specify historical\n",
      "        samples, and cannot be used in conjunction with the ``sample_size``\n",
      "        parameter. Each sample is a (``population``, ``time``) pair\n",
      "        such that the sample in position ``j`` in the list of samples\n",
      "        is drawn in the specified population at the specfied time. Time\n",
      "        is measured in generations ago, as elsewhere.\n",
      "    :param int random_seed: The random seed. If this is `None`, a\n",
      "        random seed will be automatically generated. Valid random\n",
      "        seeds must be between 1 and :math:`2^{32} - 1`.\n",
      "    :param int num_replicates: The number of replicates of the specified\n",
      "        parameters to simulate. If this is not specified or None,\n",
      "        no replication is performed and a :class:`tskit.TreeSequence` object\n",
      "        returned. If :obj:`num_replicates` is provided, the specified\n",
      "        number of replicates is performed, and an iterator over the\n",
      "        resulting :class:`tskit.TreeSequence` objects returned.\n",
      "    :param tskit.TreeSequence from_ts: If specified, initialise the simulation\n",
      "        from the root segments of this tree sequence and return the\n",
      "        completed tree sequence. Please see :ref:`here\n",
      "        <sec_api_simulate_from>` for details on the required properties\n",
      "        of this tree sequence and its interactions with other parameters.\n",
      "        (Default: None).\n",
      "    :param float start_time: If specified, set the initial time that the\n",
      "        simulation starts to this value. If not specified, the start\n",
      "        time is zero if performing a simulation of a set of samples,\n",
      "        or is the time of the oldest node if simulating from an\n",
      "        existing tree sequence (see the ``from_ts`` parameter).\n",
      "    :param float end_time: If specified, terminate the simulation at the\n",
      "        specified time. In the returned tree sequence, all rootward paths from\n",
      "        samples with time < end_time will end in a node with one child with\n",
      "        time equal to end_time. Sample nodes with time >= end_time will\n",
      "        also be present in the output tree sequence. If not specified or ``None``,\n",
      "        run the simulation until all samples have an MRCA at all positions in\n",
      "        the genome.\n",
      "    :param bool record_full_arg: If True, record all intermediate nodes\n",
      "        arising from common ancestor and recombination events in the output\n",
      "        tree sequence. This will result in unary nodes (i.e., nodes in marginal\n",
      "        trees that have only one child). Defaults to False.\n",
      "    :param model: The simulation model to use.\n",
      "        This can either be a string (e.g., ``\"smc_prime\"``) or an instance of\n",
      "        a simulation model class (e.g, ``msprime.DiscreteTimeWrightFisher(100)``.\n",
      "        Please see the :ref:`sec_api_simulation_models` section for more details\n",
      "        on specifying simulations models.\n",
      "    :type model: str or simulation model instance\n",
      "    :return: The :class:`tskit.TreeSequence` object representing the results\n",
      "        of the simulation if no replication is performed, or an\n",
      "        iterator over the independent replicates simulated if the\n",
      "        :obj:`num_replicates` parameter has been used.\n",
      "    :rtype: :class:`tskit.TreeSequence` or an iterator over\n",
      "        :class:`tskit.TreeSequence` replicates.\n",
      "    :warning: If using replication, do not store the results of the\n",
      "        iterator in a list! For performance reasons, the same\n",
      "        underlying object may be used for every TreeSequence\n",
      "        returned which will most likely lead to unexpected behaviour.\n",
      "\n"
     ]
    }
   ],
   "source": [
    "help(msprime.simulate)"
   ]
  },
  {
   "cell_type": "markdown",
   "metadata": {
    "slideshow": {
     "slide_type": "subslide"
    }
   },
   "source": [
    "`TreeSequence` Objects are _immutable,_  to edit a tree sequence we must edit the underlying tables."
   ]
  },
  {
   "cell_type": "code",
   "execution_count": 6,
   "metadata": {
    "slideshow": {
     "slide_type": "fragment"
    }
   },
   "outputs": [],
   "source": [
    "def strip_singletons(ts):\n",
    "    tables = ts.dump_tables()\n",
    "    tables.sites.clear()\n",
    "    tables.mutations.clear()\n",
    "    for tree in ts.trees():\n",
    "        for site in tree.sites():\n",
    "            assert len(site.mutations) == 1  # Only supports infinite sites muts.\n",
    "            mut = site.mutations[0]\n",
    "            if tree.num_samples(mut.node) > 1:\n",
    "                site_id = tables.sites.add_row(\n",
    "                    position=site.position, ancestral_state=site.ancestral_state\n",
    "                )\n",
    "                tables.mutations.add_row(\n",
    "                    site=site_id, node=mut.node, derived_state=mut.derived_state\n",
    "                )\n",
    "    return tables.tree_sequence()"
   ]
  },
  {
   "cell_type": "markdown",
   "metadata": {
    "slideshow": {
     "slide_type": "subslide"
    }
   },
   "source": [
    "Using `tskit`, We can compute all sorts of fun and useful statistics!"
   ]
  },
  {
   "cell_type": "code",
   "execution_count": 40,
   "metadata": {
    "slideshow": {
     "slide_type": "fragment"
    }
   },
   "outputs": [],
   "source": [
    "import tskit\n",
    "import matplotlib.pyplot as pyplot\n",
    "\n",
    "def ld_matrix_example(ts):\n",
    "    # calculate\n",
    "    ld_calc = tskit.LdCalculator(ts)  \n",
    "    A = ld_calc.r2_matrix()\n",
    "\n",
    "    #plot \n",
    "    fig, ax = pyplot.subplots(figsize=(8, 8))\n",
    "    fig.tight_layout(pad=0)\n",
    "    im = ax.imshow(A, interpolation=\"none\", vmin=0, vmax=1, cmap=\"Blues\")\n",
    "    ax.set_xticks([])\n",
    "    ax.set_yticks([])\n",
    "    for s in \"top\", \"bottom\", \"left\", \"right\":\n",
    "        ax.spines[s].set_visible(False)\n",
    "    pyplot.gcf().colorbar(im, shrink=0.5, pad=0)\n",
    "    #pyplot.savefig(\"ld.svg\")\n",
    "    pyplot.show()"
   ]
  },
  {
   "cell_type": "code",
   "execution_count": 41,
   "metadata": {
    "slideshow": {
     "slide_type": "subslide"
    }
   },
   "outputs": [
    {
     "data": {
      "image/png": "[encoded data removed]",
      "text/plain": [
       "<Figure size 576x576 with 2 Axes>"
      ]
     },
     "metadata": {
      "needs_background": "light"
     },
     "output_type": "display_data"
    }
   ],
   "source": [
    "ts = msprime.simulate(100, recombination_rate=10, mutation_rate=20, random_seed=1)\n",
    "ld_matrix_example(ts)"
   ]
  },
  {
   "cell_type": "markdown",
   "metadata": {
    "slideshow": {
     "slide_type": "slide"
    }
   },
   "source": [
    "## Forward-Time Simulation"
   ]
  },
  {
   "cell_type": "markdown",
   "metadata": {
    "slideshow": {
     "slide_type": "fragment"
    }
   },
   "source": [
    "Coalescent simulations are naturally much faster than forward moving simulations"
   ]
  },
  {
   "cell_type": "markdown",
   "metadata": {
    "slideshow": {
     "slide_type": "fragment"
    }
   },
   "source": [
    "This is because we don't need to keep track of _every_ individual in a population, but rather just the ancestors of the sampled individuals "
   ]
  },
  {
   "cell_type": "markdown",
   "metadata": {
    "slideshow": {
     "slide_type": "fragment"
    }
   },
   "source": [
    "Unfortunately, the markovian properties of the coalescent present a duality in the face of _real_ evolutionary forces like selection and continuous space"
   ]
  },
  {
   "cell_type": "markdown",
   "metadata": {
    "slideshow": {
     "slide_type": "subslide"
    }
   },
   "source": [
    "To study real world effects of evolution or sontinuous space on a population, we need individual based, forwards-time simulators."
   ]
  },
  {
   "cell_type": "markdown",
   "metadata": {
    "slideshow": {
     "slide_type": "fragment"
    }
   },
   "source": [
    "This means we need to simulate and keep track of every individual genome in a population along with the vast amount of mutations which accumulate throughout."
   ]
  },
  {
   "cell_type": "markdown",
   "metadata": {
    "slideshow": {
     "slide_type": "fragment"
    }
   },
   "source": [
    "Computationally, this limits us to modest size populations and genome sizes ... Bummer!"
   ]
  },
  {
   "cell_type": "markdown",
   "metadata": {
    "slideshow": {
     "slide_type": "slide"
    }
   },
   "source": [
    "## Efficient pedigree recording for fast population genetics simulation,\n",
    "[Jerome Kelleher, Kevin R. Thornton, Jaime Ashander, Peter L. Ralph, 2018](https://journals.plos.org/ploscompbiol/article?id=10.1371/journal.pcbi.1006581)"
   ]
  },
  {
   "cell_type": "markdown",
   "metadata": {
    "slideshow": {
     "slide_type": "fragment"
    }
   },
   "source": [
    "Hm, well, if we record how _every_ individual is related to _every_ other individual,then, we can add neutral mutations after the fact to achieve the _same_ result."
   ]
  },
  {
   "cell_type": "markdown",
   "metadata": {
    "slideshow": {
     "slide_type": "fragment"
    }
   },
   "source": [
    "No computational heavylifting required to keep track of millions or billions of mutations throughout the simulation, that should speed things up!"
   ]
  },
  {
   "cell_type": "markdown",
   "metadata": {
    "slideshow": {
     "slide_type": "subslide"
    }
   },
   "source": [
    "### Tree-sequence recording algorithm"
   ]
  },
  {
   "cell_type": "markdown",
   "metadata": {
    "slideshow": {
     "slide_type": "fragment"
    }
   },
   "source": [
    "For _every_ individual born, we:"
   ]
  },
  {
   "cell_type": "markdown",
   "metadata": {
    "slideshow": {
     "slide_type": "fragment"
    }
   },
   "source": [
    "1. add each gamete to the Node Table,"
   ]
  },
  {
   "cell_type": "markdown",
   "metadata": {
    "slideshow": {
     "slide_type": "fragment"
    }
   },
   "source": [
    "2. add entries to the Edge Table recording which parent each gamete inherited each bit of genome from"
   ]
  },
  {
   "cell_type": "markdown",
   "metadata": {
    "slideshow": {
     "slide_type": "fragment"
    }
   },
   "source": [
    "3. add any new mutations to the Mutation Table and (if necessary) their locations to the Site Table."
   ]
  },
  {
   "cell_type": "markdown",
   "metadata": {
    "slideshow": {
     "slide_type": "subslide"
    }
   },
   "source": [
    "## Hold up, "
   ]
  },
  {
   "cell_type": "markdown",
   "metadata": {
    "slideshow": {
     "slide_type": "fragment"
    }
   },
   "source": [
    "you said this made forward-time simulation faster ... "
   ]
  },
  {
   "cell_type": "markdown",
   "metadata": {
    "slideshow": {
     "slide_type": "fragment"
    }
   },
   "source": [
    "But we don't have unlimited memory, for god's sake!"
   ]
  },
  {
   "cell_type": "markdown",
   "metadata": {
    "slideshow": {
     "slide_type": "fragment"
    }
   },
   "source": [
    "Plus, we (usually) don't care about lineages other than those of the sampled population."
   ]
  },
  {
   "cell_type": "markdown",
   "metadata": {
    "slideshow": {
     "slide_type": "subslide"
    }
   },
   "source": [
    "You're right, that why every so often during simulation, we stop and _simplify,_ "
   ]
  },
  {
   "cell_type": "markdown",
   "metadata": {
    "slideshow": {
     "slide_type": "subslide"
    }
   },
   "source": [
    "<img src=\"materials/simplify.png\" width=\"450\" align=\"center\">\n",
    "\n",
    "[Jerome Kelleher, Kevin R. Thornton, Jaime Ashander, Peter L. Ralph, 2018](https://journals.plos.org/ploscompbiol/article?id=10.1371/journal.pcbi.1006581)"
   ]
  },
  {
   "cell_type": "markdown",
   "metadata": {
    "slideshow": {
     "slide_type": "subslide"
    }
   },
   "source": [
    "Before simplification:\n",
    "\n",
    "![SegmentLocal](./materials/sim_wf_unlabeled.anim.gif \"segment\")"
   ]
  },
  {
   "cell_type": "markdown",
   "metadata": {
    "slideshow": {
     "slide_type": "subslide"
    }
   },
   "source": [
    "Before simplification:\n",
    "\n",
    "![SegmentLocal](./materials/sim_wf_simplified.anim.gif \"segment\")"
   ]
  },
  {
   "cell_type": "markdown",
   "metadata": {
    "slideshow": {
     "slide_type": "subslide"
    }
   },
   "source": [
    "and look, it works!\n",
    "<img src=\"materials/slim_speedup.png\" width=\"550\" align=\"center\">\n",
    "[Haller, Galloway, Kelleher, Messer, Ralph 2019](https://onlinelibrary.wiley.com/doi/pdf/10.1111/1755-0998.12968)"
   ]
  },
  {
   "cell_type": "markdown",
   "metadata": {
    "slideshow": {
     "slide_type": "slide"
    }
   },
   "source": [
    "## Tree‐sequence recording in SLiM opens new horizons for forward‐time simulation of whole genomes\n",
    "[Ben Haller, Jared Galloway, Jerome Kelleher, Philip Messer, Peter Ralph 2019](https://onlinelibrary.wiley.com/doi/pdf/10.1111/1755-0998.12968)"
   ]
  },
  {
   "cell_type": "markdown",
   "metadata": {
    "slideshow": {
     "slide_type": "fragment"
    }
   },
   "source": [
    "`SLiM` (Selection on Linked Mutations) is an _very_ powerful forward-time population genetics simulator with fitness effects, continuous space, WF and Non-WF models. "
   ]
  },
  {
   "cell_type": "markdown",
   "metadata": {
    "slideshow": {
     "slide_type": "fragment"
    }
   },
   "source": [
    "Tree Sequence recording is _very_ simple to use. "
   ]
  },
  {
   "cell_type": "markdown",
   "metadata": {
    "slideshow": {
     "slide_type": "fragment"
    }
   },
   "source": [
    "The package `pyslim` is used to deal with all treesequences going to and from `SLiM`"
   ]
  },
  {
   "cell_type": "markdown",
   "metadata": {
    "slideshow": {
     "slide_type": "slide"
    }
   },
   "source": [
    "SLiM takes input in the form of `Eidos` Scripts, a custom scripting language to set up complex simulations."
   ]
  },
  {
   "cell_type": "code",
   "execution_count": 45,
   "metadata": {
    "slideshow": {
     "slide_type": "fragment"
    }
   },
   "outputs": [
    {
     "name": "stdout",
     "output_type": "stream",
     "text": [
      "initialize() {\r\n",
      "        initializeTreeSeq();\r\n",
      "        initializeMutationRate(0);\r\n",
      "        initializeMutationType(\"m1\", 0.5, \"f\", 0.0);\r\n",
      "        initializeGenomicElementType(\"g1\", m1, 1.0);\r\n",
      "        initializeGenomicElement(g1, 0, 1e2-1);\r\n",
      "        initializeRecombinationRate(c(2e-7,1e-2,2e-7), c(45,55,100)); \r\n",
      "}\r\n",
      "1 {\r\n",
      "\tsim.addSubpop(\"p1\", 500);\r\n",
      "}\r\n",
      "5000 late() {\r\n",
      "\tsim.treeSeqOutput(\"ex1_TS.trees\");\r\n",
      "}\r\n"
     ]
    }
   ],
   "source": [
    "! cat materials/example1.slim"
   ]
  },
  {
   "cell_type": "code",
   "execution_count": 51,
   "metadata": {
    "scrolled": false,
    "slideshow": {
     "slide_type": "subslide"
    }
   },
   "outputs": [
    {
     "name": "stdout",
     "output_type": "stream",
     "text": [
      "Running Simulation\n"
     ]
    },
    {
     "data": {
      "image/png": "[encoded data removed]",
      "text/plain": [
       "<Figure size 576x576 with 2 Axes>"
      ]
     },
     "metadata": {
      "needs_background": "light"
     },
     "output_type": "display_data"
    }
   ],
   "source": [
    "import pyslim\n",
    "print(f\"Running Simulation\")\n",
    "\n",
    "! slim -s 24 materials/example1.slim > sim_output.txt\n",
    "\n",
    "ts = pyslim.load(\"ex1_TS.trees\")\n",
    "mutated = msprime.mutate(ts, rate=1e-4, random_seed=23, keep=True)\n",
    "ld_matrix_example(mutated)"
   ]
  },
  {
   "cell_type": "markdown",
   "metadata": {
    "slideshow": {
     "slide_type": "subslide"
    }
   },
   "source": [
    "SLiMulations can be _very_ complex!"
   ]
  },
  {
   "cell_type": "code",
   "execution_count": 52,
   "metadata": {
    "slideshow": {
     "slide_type": "fragment"
    }
   },
   "outputs": [
    {
     "name": "stdout",
     "output_type": "stream",
     "text": [
      "initialize(){\r\n",
      "\r\n",
      "    //Source File With Helper Functions\r\n",
      "\tsource(\"./dev_Utils.slim\");\r\n",
      "\r\n",
      "\t//The Path Where You want sampling files written to\r\n",
      "\tpathToOutputFile = \"./Output1/MyRecipe9_1_0/\";\r\n",
      "\r\n",
      "\t//KNOBS//\r\n",
      "\r\n",
      "\tendOfSimulation = 150000; \t\t\r\n",
      "\r\n",
      "\tintroduce = 100000;\t\t\r\n",
      "\r\n",
      "\tsamplingInterval = 50;\r\n",
      "\r\n",
      "\tnumberOfLakes = 25;\t\r\n",
      "\t\r\n",
      "\toptimumPhenoMarine = 10;\r\n",
      "\t\r\n",
      "\toptimumPhenoFresh = -10;\r\n",
      "\r\n",
      "\tindividualsInOcean = 5000;\r\n",
      "\t\r\n",
      "\tindividualsInFresh = 5000;\r\n",
      "\r\n",
      "\tnumberOfEffectRegions = 10;\r\n",
      "\r\n",
      "\tsizeOfEffectRegions = 100000;\r\n",
      "\r\n",
      "\tsizeOfNonEffectBuffer = 4950000;\r\n",
      "\r\n",
      "\tmutationRateInEffectRegions = 1e-10;\r\n",
      "\t\r\n",
      "\tmutationRateInNeutralRegions = 0; //Because TreeSeq :-) \r\n",
      "\t\r\n",
      "\trecombinationRateInEffectRegions = 1e-8;\r\n",
      "\r\n",
      "\trecombinationRateInNeutralRegions = 1e-8;\r\n",
      "\r\n",
      "\tmigrationRate = 5e-5;\r\n",
      "\r\n",
      "\t//For the Header of Files\r\n",
      "\r\n",
      "\tindividualsPerFresh = individualsInFresh/numberOfLakes;\t\r\n",
      "\tlengthOfPops = asFloat(numberOfLakes);\r\n",
      "\tnumberOfSamplingPoints = endOfSimulation/samplingInterval;\t\r\n",
      "\r\n",
      "\t//Define constants \t\r\n",
      "\r\n",
      "\tdefineConstant(\"END\",endOfSimulation);\r\n",
      "\tdefineConstant(\"INT\",samplingInterval);\r\n",
      "\tdefineConstant(\"NLAKES\",numberOfLakes);\r\n",
      "\tdefineConstant(\"IIO\", individualsInOcean);\r\n",
      "\tdefineConstant(\"IIF\", individualsInFresh);\t\r\n",
      "\tdefineConstant(\"LOP\", lengthOfPops);\r\n",
      "\tdefineConstant(\"IPF\",individualsPerFresh);\r\n",
      "\tdefineConstant(\"PATH\",pathToOutputFile);\r\n",
      "\tdefineConstant(\"C\", numberOfEffectRegions);    \t// number of Effect Regions;\r\n",
      "\tdefineConstant(\"W\", sizeOfNonEffectBuffer);  \t// size of neutral buffer on each side\r\n",
      "\tdefineConstant(\"P\", sizeOfEffectRegions);   \t// Size of contribution (Effect) Loci \r\n",
      "\tdefineConstant(\"INP\", introduce);\r\n",
      "\tdefineConstant(\"MGR\", migrationRate);\r\n",
      "\r\n",
      "\t//Marine individuals need a one-dimentional spatial position\r\n",
      "\r\n",
      "\tinitializeSLiMOptions(dimensionality=\"x\");\r\n",
      "\tinitializeTreeSeq();\r\n",
      "\r\n",
      "\t//initialize all mutation types\r\n",
      "\t//Move individual trait value in the:\r\n",
      "\r\n",
      "\tinitializeMutationType(\"m1\", 0.5, \"g\", 0.5, 1.0);  //Positive Direction, Dominant \r\n",
      "\tinitializeMutationType(\"m2\", 0.5, \"g\", -0.5, 1.0); //Negative Direction, Dominant\r\n",
      "\t//initializeMutationType(\"m3\", 0.5, \"f\", 0.0);       //Neither Direction, Neutral\r\n",
      "\tinitializeMutationType(\"m4\", 0.5, \"g\", 0.5, 1.0);  //Positive Direction, Recessive\r\n",
      "\tinitializeMutationType(\"m5\", 0.5, \"g\", -0.5, 1.0); //Negative Direction, Recessive\r\n",
      "\tinitializeMutationType(\"m6\", 0.5, \"g\", 0.6, 1.0);  //Positive Direction, Additive\r\n",
      "\tinitializeMutationType(\"m7\", 0.5, \"g\", -0.6, 1.0); //Negative Direction, Additive\r\n",
      "\r\n",
      "\t//Genomic elements: \t\r\n",
      "\r\n",
      "\tinitializeGenomicElementType(\"g1\", m1, 0.0); //Neutral, although m1 is defined to arise, notice the mutRate in these regions is 0\r\n",
      "\tinitializeGenomicElementType(\"g2\", c(m1,m2,m4,m5,m6,m7), c(1.0,1.0,1.0,1.0,1.0,1.0)); \t//Potential to impact individual trait value\r\n",
      "\r\n",
      "\t//Make all mutations stack \"Late\" meaning the last mutation to arise at a locus takes precedent\r\n",
      "\r\n",
      "\tm1.mutationStackPolicy = \"l\";\r\n",
      "\tm2.mutationStackPolicy = \"l\";\r\n",
      "\t//m3.mutationStackPolicy = \"l\";\r\n",
      "\tm4.mutationStackPolicy = \"l\";\r\n",
      "\tm5.mutationStackPolicy = \"l\";\r\n",
      "\tm6.mutationStackPolicy = \"l\";\r\n",
      "\tm7.mutationStackPolicy = \"l\";\r\n",
      "\t\r\n",
      "\t//initialize genomic arch.\r\n",
      "\t// |----------NonEffect-----------|-Effect(g3)-|----------NonEffect----------|\r\n",
      "\r\n",
      "\tmutRateVector = NULL;\r\n",
      "\trecombVector = NULL;\r\n",
      "\tlociVector = NULL;\r\n",
      "\r\n",
      "\tpos = 0;\r\n",
      "\tq = NULL;\r\n",
      "\tfor (i in 1:C)\r\n",
      "\t{\r\n",
      "\t\tinitializeGenomicElement(g1, pos, pos + W-1);    \r\n",
      "\t\tpos = pos + W;\r\n",
      "\t\trecombVector = c(recombVector,recombinationRateInNeutralRegions);\r\n",
      "\t\tmutRateVector = c(mutRateVector,mutationRateInNeutralRegions);\r\n",
      "\t\tlociVector = c(lociVector,pos-1);\r\n",
      "\r\n",
      "\t\tinitializeGenomicElement(g2, pos, pos + P-1);\r\n",
      "\t\tq = c(q,c(pos,pos+P-1));\r\n",
      "\t\tpos = pos + P;\t\r\n",
      "\t\trecombVector = c(recombVector,recombinationRateInEffectRegions);\r\n",
      "\t\tmutRateVector = c(mutRateVector,mutationRateInEffectRegions);\r\n",
      "\t\tlociVector = c(lociVector,pos-1);\r\n",
      "\r\n",
      "\t\tinitializeGenomicElement(g1, pos, pos + W-1);\r\n",
      "\t\tpos = pos + W;\r\n",
      "\t\trecombVector = c(recombVector,recombinationRateInNeutralRegions);\r\n",
      "\t\tmutRateVector = c(mutRateVector,mutationRateInNeutralRegions);\r\n",
      "\t\tlociVector = c(lociVector,pos-1);\r\n",
      "\t}\r\n",
      "\r\n",
      "\tcatn(\"end of chromosome position: \"+pos);\r\n",
      "\ttotalNumOfLoci = pos;\r\n",
      "\r\n",
      "\tdefineConstant(\"TL\", totalNumOfLoci);\r\n",
      "\tdefineConstant(\"Q\", q);     // remember our QTL positions\r\n",
      "\r\n",
      "\tinitializeRecombinationRate(recombVector,lociVector);\t\r\n",
      "\tinitializeMutationRate(mutRateVector,lociVector); \t\r\n",
      "\r\n",
      "\t//Interaction Function for Oceanic mateChoice() callback...\r\n",
      "\r\n",
      "\tinitializeInteractionType(1, \"x\", reciprocal=T, maxDistance=1.0);\r\n",
      "\ti1.setInteractionFunction(\"n\", 0.5, 0.5);\r\n",
      "\r\n",
      "\t//Interation Function for Freshwater mateChoice() callback...\r\n",
      "\r\n",
      "\tinitializeInteractionType(2, \"x\", reciprocal=T, maxDistance=0.02);\r\n",
      "\ti2.setInteractionFunction(\"n\", 0.5, 0.02);\r\n",
      "\r\n",
      "\t//file header for ALL sampling files = numberOfSamplingPoints + sampingInterval + introduction + endofsim\r\n",
      "\r\n",
      "\theader = numberOfSamplingPoints+\" \"+INT+\" \"+INP+\" \"+END;\r\n",
      "\r\n",
      "\t//Initialize all sampling files with a header\r\n",
      "\t\r\n",
      "\twriteFile(PATH+\"AveragePhenotypeThroughout.txt\",header,append = F);\r\n",
      "//\twriteFile(PATH+\"EffectMutationFrequenciesThroughout.txt\",header,append=F);\t\r\n",
      "\twriteFile(PATH+\"AvgNumLakesFreshAlleleAppearsIn.txt\",header,append=F);\r\n",
      "\twriteFile(PATH+\"numfreshAlleles.txt\",header,append=F);\r\n",
      "\twriteFile(PATH+\"AvgFreshAllelesPerMarineInd.txt\",header,append=F);\r\n",
      "//\twriteFile(PATH+\"OceanFreshwaterFstRoc.txt\",header,append = F);\r\n",
      "\twriteFile(PATH+\"OceanFreshwaterFst.txt\",header,append = F);\r\n",
      "\twriteFile(PATH+\"OceanFreshwater2Fst.txt\",header,append = F);\r\n",
      "\twriteFile(PATH+\"FreshwaterFreshwater2Fst.txt\",header,append = F);\r\n",
      "\twriteFile(PATH+\"StandingGeneticVariationThroughout.txt\",header,append = F);\r\n",
      "\twriteFile(PATH+\"avgFWAA.txt\",header,append = F);\t\r\n",
      "\twriteFile(PATH+\"avgFWAA_divTotal.txt\",header,append = F);\t\r\n",
      "\twriteFile(PATH+\"Adaptation.txt\",header,append = F);\t\r\n",
      "//\twriteFile(PATH+\"MeanFstThroughoutNeutral.txt\",header,append = F);  //Fst Sampling is going to be done in python with the trees. \r\n",
      "//\twriteFile(PATH+\"MeanFstThroughoutEffect.txt\",header,append = F);\r\n",
      "\twriteFile(PATH+\"FWAAPerMarineIndCounts\",header,append = F);\r\n",
      "\t\r\n",
      "}\r\n",
      "\r\n",
      "\r\n",
      "1 early(){\r\n",
      "\t\r\n",
      "\t\r\n",
      "\r\n",
      "\t//right off the bat, set adapted to false because the new populations have not adapted\r\n",
      "\t//also schedule the introduction blocks to the defined value in init\r\n",
      "\tsim.setValue(\"Adapted\",F);\r\n",
      "\r\n",
      "\tsim.rescheduleScriptBlock(s1,INP,INP);\r\n",
      "\r\n",
      "\tfor (block in c(s2,s3,s4,s5)){\r\n",
      "\t\tsim.rescheduleScriptBlock(block,INP);\r\n",
      "\t}\r\n",
      "\t\r\n",
      "\tsim.rescheduleScriptBlock(s6,END,END);\r\n",
      "\t\r\n",
      "}\r\n",
      "\r\n",
      "//--INTRODUCE MARINE AND FRESHWATER POPULATION--\r\n",
      "\r\n",
      "\r\n",
      "\r\n",
      "1 late(){\t\r\n",
      "\r\n",
      "\t//sim.readFromPopulationFile(\"/Users/jaredgalloway/Documents/ResearchStuff/CODEBASS/Assigned/Output1/MyRecipe9_0_3/TreesAtAdaptation.trees\");\r\n",
      "\t\r\n",
      "\tsim.addSubpop(\"p1\", IIO);  //Marine \r\n",
      "\tsim.addSubpop(\"p2\", IIF);  //Freshwater\r\n",
      "\t\r\n",
      "\t//set length of pops equal to 1 unit per lake\r\n",
      "\r\n",
      "\tp1.setSpatialBounds(c(0.0, LOP));\r\n",
      "\tp2.setSpatialBounds(c(0.0, LOP));\r\n",
      "\r\n",
      "\t//set migration to 1 individual per generation from each pop to another \r\n",
      "\r\n",
      "\t//migrationRateIntoOcean = asFloat(NLAKES/IIF);\r\n",
      "\t//migrationRateIntoFresh = asFloat(1/IIO);\r\n",
      "\t\r\n",
      "\tp1.setMigrationRates(p2,MGR);\r\n",
      "\tp2.setMigrationRates(p1,MGR);\r\n",
      "\t\r\n",
      "\t//unifomily distribute oceanic individuals.\r\n",
      "\r\n",
      "\tfor (ind in p1.individuals){\r\n",
      "\t\tind.setSpatialPosition(p1.pointUniform());\r\n",
      "\t}\r\n",
      "\t\r\n",
      "\tlakeIndividuals = p2.individuals;\r\n",
      "\r\n",
      "\t//Put an even amount of individuals in each \"lake\" (location)\r\n",
      "\r\n",
      "\tfor (i in 0:(NLAKES-1)){\r\n",
      "\t\tfor (j in 0:(IPF-1)){\r\n",
      "\t\t\tlakeIndividuals[IPF*i + j].setSpatialPosition((i+1)-(0.5));\t\t\t\t\t\r\n",
      "\t\t}\r\n",
      "\t}\r\n",
      "\t\r\n",
      "\t\r\n",
      "\r\n",
      "}\r\n",
      "\r\n",
      "//--INTRODUCE NEW FRESH POPULATION AS A COPY OF MARINE INDIVIDUALS--\r\n",
      "\r\n",
      "s1 40000 late(){\r\n",
      "\r\n",
      "\t//before introduction, lets sample the ditribution of FWAA in Marine individuals.\r\n",
      "\trecordNumberOfFWAAPerMarineInd();\r\n",
      "\r\n",
      "\t//Lets also measure true-negatives and statistical power \r\n",
      "\t//TrueNegative_StatPower();\r\n",
      "\r\n",
      "\tsim.addSubpopSplit(\"p3\",IIF,p1);\r\n",
      "\tp3.setSpatialBounds(c(0.0, LOP));\r\n",
      "\t\r\n",
      "\tlakeIndividuals2 = p3.individuals;\r\n",
      "\t\r\n",
      "\tp1.setMigrationRates(p3,MGR);\r\n",
      "\tp3.setMigrationRates(p1,MGR);\r\n",
      "\r\n",
      "\tfor (i in 0:(NLAKES-1)){\r\n",
      "\t\tfor (j in 0:(IPF-1)){\r\n",
      "\t\t\tlakeIndividuals2[IPF*i + j].setSpatialPosition((i+1)-(0.5));\t\t\t\t\t\r\n",
      "\t\t}\r\n",
      "\t}\r\n",
      "\t\r\n",
      "\t//Remeber the original, introduced individuals in the tree seqeunce\r\n",
      "\tsim.treeSeqRememberIndividuals(p3.individuals);\r\n",
      "\r\n",
      "\t//Output full so that we can dig into the simulation directly after introducing the new population\r\n",
      "\tsim.treeSeqOutput(PATH+\"TreesAtIntroduction.trees\");\r\n",
      "}\r\n",
      "\t\r\n",
      "1: late() {  \r\n",
      "\r\n",
      "\r\n",
      "\t\r\n",
      "\t//--CALCULATE PHENOTYPE--\r\n",
      "\t\t\r\n",
      "\tsubstitutionOffset = 2 * sum(sim.substitutions.selectionCoeff);\r\n",
      "\r\n",
      "\tfor (individual in sim.subpopulations.individuals) //Calculate fitness (.tagF) \r\n",
      "\t{\r\n",
      "\t\tdominantMarine = 2 * sum(individual.uniqueMutationsOfType(m1).selectionCoeff);\r\n",
      "\t\tdominantFreshwater = 2 * sum(individual.uniqueMutationsOfType(m2).selectionCoeff);\r\n",
      "\r\n",
      "\t\taM = sum(individual.genomes.mutationsOfType(m4).selectionCoeff);\r\n",
      "\t\taF = sum(individual.genomes.mutationsOfType(m5).selectionCoeff);\r\n",
      "\t\tdM = 2 * sum(individual.uniqueMutationsOfType(m4).selectionCoeff);\r\n",
      "\t\tdF = 2 * sum(individual.uniqueMutationsOfType(m5).selectionCoeff);\r\n",
      "\r\n",
      "\t\trecessiveMarine = (2 * aM) - dM; \r\n",
      "\t\trecessiveFreshwater = (2 * aF) - dF;\r\n",
      "\r\n",
      "\t\tadditiveMarine = sum(individual.genomes.mutationsOfType(m6).selectionCoeff);\r\n",
      "\t\tadditiveFreshwater = sum(individual.genomes.mutationsOfType(m7).selectionCoeff);\r\n",
      "\t\r\n",
      "\t\tindividual.tagF = dominantMarine+recessiveFreshwater+dominantFreshwater+recessiveMarine+additiveMarine+additiveFreshwater+substitutionOffset;\t\t\r\n",
      "\t}\r\n",
      "\r\n",
      "\t//every generation, get reference to average phenotype.\r\n",
      "\r\n",
      "\tmarine_mean_phenotype = mean(p1.individuals.tagF);\r\n",
      "\tfreshwater_mean_phenotype = mean(p2.individuals.tagF);\r\n",
      "\r\n",
      "\tsim.setValue(\"FAP\",freshwater_mean_phenotype);\r\n",
      "\tsim.setValue(\"MAP\",marine_mean_phenotype);\r\n",
      "\ti1.evaluate(p1);\r\n",
      "\r\n",
      "\tif (sim.generation >= INP){\r\n",
      "\t\tintroduced_mean_phenotype = mean(p3.individuals.tagF);\r\n",
      "\t\tsim.setValue(\"IAP\",introduced_mean_phenotype);\r\n",
      "\t\ti2.evaluate(c(p2,p3));\t\t\r\n",
      "\t}else{\r\n",
      "\t\ti2.evaluate(p2);\r\n",
      "\t}\r\n",
      "\t\r\n",
      "\t//--SAMPLE PHENOTYPE--\r\n",
      "\t\r\n",
      "\tif((sim.generation % INT == 0) | (sim.generation == END))\r\n",
      "\t{\r\n",
      "\t\t//TODO Number of mutations per individual. \r\n",
      "\t\r\n",
      "\t\t//cat(\"-------------------------------\\n\");\r\n",
      "\t\t//cat(\"Output1 for generation \" + sim.generation + \":\\n\\n\");\r\n",
      "\r\n",
      "\t\tsamplePhenotype();\r\n",
      "\t}\r\n",
      "\r\n",
      "\t//--CALCULATE FITNESS BASED UPON PHENOTYPE--\r\n",
      "\t\r\n",
      "\tfor (individual in p2.individuals){\r\n",
      "\t\tindividual.tagF = dnorm(-10.0 - individual.tagF,0.0,15.0);\r\n",
      "\t}\r\n",
      "\tfor (individual in p1.individuals){\r\n",
      "\t\tindividual.tagF = dnorm(10 - individual.tagF,0.0,15.0) * exp( - i1.totalOfNeighborStrengths(individual)/400);\r\n",
      "\t}\r\n",
      "\tif (sim.generation >= INP){\r\n",
      "\t\tfor (individual in p3.individuals){\r\n",
      "\t\t\tindividual.tagF = dnorm(-10 - individual.tagF,0.0,15.0);\r\n",
      "\t\t}\r\n",
      "\t}\r\n",
      "\r\n",
      "\t//--NORMALIZE FITNESS IN LAKES SO PROPOTIONAL AMOUNT GET CHOSEN IN THE NEXT GEN--\r\n",
      " \r\n",
      "\tfor (l in 1:NLAKES){\r\n",
      "\t\tlocationOfLake = (l - 0.5);\r\n",
      "\t\tlake_individuals = p2.individuals[abs(p2.individuals.spatialPosition - locationOfLake) < 1e-8];\r\n",
      "\t\tsumOfPhenos = sum(lake_individuals.tagF);\r\n",
      "\t\tlake_individuals.tagF =(lake_individuals.tagF*IPF)/(sumOfPhenos);\r\n",
      "\t}\r\n",
      "\t\r\n",
      "\tif (sim.generation >= INP){\r\n",
      "\t\tfor (l in 1:NLAKES){\r\n",
      "\t\t\tlocationOfLake = (l - 0.5);\r\n",
      "\t\t\tlake_individuals2 = p3.individuals[abs(p3.individuals.spatialPosition - locationOfLake) < 1e-8];\r\n",
      "\t\t\tsumOfPhenos2 = sum(lake_individuals2.tagF);\r\n",
      "\t\t\tlake_individuals2.tagF =(lake_individuals2.tagF*IPF)/(sumOfPhenos2);\r\n",
      "\t\t}\r\n",
      "\t}\r\n",
      "\r\n",
      "}\r\n",
      "\r\n",
      "\r\n",
      "1: late(){\t\t\r\n",
      "\r\n",
      "\tif((sim.generation % INT == 0) | (sim.generation == END))\r\n",
      "\t{\r\n",
      "\t\t//GET MUTATIONS THAT ONLY EXIST IN WANTED POPULATIONS FOR SAMPLING.\r\n",
      "\r\n",
      "\t\tm1s = sim.mutationsOfType(m1);\t\t\t\r\n",
      "\t\tm2s = sim.mutationsOfType(m2);\t\t\t\r\n",
      "\t\tm4s = sim.mutationsOfType(m4);\t\t\t\r\n",
      "\t\tm5s = sim.mutationsOfType(m5);\t\t\t\r\n",
      "\t\tm6s = sim.mutationsOfType(m6);\t\t\t\r\n",
      "\t\tm7s = sim.mutationsOfType(m7);\t\t\t\r\n",
      "\t\t\r\n",
      "\t\teffectMutations = c(m1s,m2s,m4s,m5s,m6s,m7s);\r\n",
      "\r\n",
      "\t\t//recordFrequencies(effectMutations);\r\n",
      "\t\t\r\n",
      "\t\trecordFreshAdaptedAlleles(effectMutations);\r\n",
      "\t\t\r\n",
      "\t}\t\t\t\r\n",
      "}\r\n",
      "\r\n",
      "//--ANALYZE THE RECONSTRUCTION OF THE FRESHWATER GENOTYPE \r\n",
      "\r\n",
      "s2 40000: late(){\r\n",
      "\r\n",
      "\t//TODO RECORD P2 HAPLO AT TIME OF INTRODUCTION ... \r\n",
      "\r\n",
      "\r\n",
      "\t//time of adaptation\r\n",
      "\tif (abs(sim.getValue(\"FAP\") - sim.getValue(\"IAP\")) <= 0.5 & !(sim.getValue(\"Adapted\"))){\r\n",
      "\r\n",
      "\t\tsim.setValue(\"Adapted\",T);\r\n",
      "\t\tAdaptationSampling();\t\t\r\n",
      "\t\tsim.treeSeqOutput(PATH+\"TreesAtAdaptation.trees\");\r\n",
      "\r\n",
      "\t}\t\r\n",
      "\r\n",
      "\tif((sim.generation % INT == 0) | (sim.generation == END)){\r\n",
      "\t\t\r\n",
      "\t\tm1s = sim.mutationsOfType(m1);\t\t\t\r\n",
      "\t\tm2s = sim.mutationsOfType(m2);\t\t\t\r\n",
      "\t\tm4s = sim.mutationsOfType(m4);\t\t\t\r\n",
      "\t\tm5s = sim.mutationsOfType(m5);\t\t\t\r\n",
      "\t\tm6s = sim.mutationsOfType(m6);\t\t\t\r\n",
      "\t\tm7s = sim.mutationsOfType(m7);\t\t\t\r\n",
      "\r\n",
      "\t\teffectMutations = c(m1s,m2s,m4s,m5s,m6s,m7s);\r\n",
      "\r\n",
      "\t\tMeanPreExistingFAA_PerIndividual(effectMutations);\r\n",
      "\r\n",
      "\t\trecordStandingGeneticVariation(c(p1,p2,p3),effectMutations);\t\r\n",
      "\t}\r\n",
      "\t\r\n",
      "}\r\n",
      "\r\n",
      "//--TO OVERRIDE SLIM'S DEFAULT DISTRIBUTION OF FITNESS EFFECTS--\r\n",
      "\r\n",
      "fitness(m1) {return 1.0;}\r\n",
      "fitness(m2) {return 1.0;}\r\n",
      "fitness(m4) {return 1.0;}\r\n",
      "fitness(m5) {return 1.0;}\r\n",
      "fitness(m6) {return 1.0;}\r\n",
      "fitness(m7) {return 1.0;}\r\n",
      "\r\n",
      "//--FITNESS == \r\n",
      "//--WE DEFINE FITNESS TO BE DIRECTLY CORRELATED TO THIER PHENOTYPE--\r\n",
      "\r\n",
      "fitness(NULL, p1) {\r\n",
      "\treturn individual.tagF;\r\n",
      "}\r\n",
      "fitness(NULL, p2) {\r\n",
      "\treturn individual.tagF;\r\n",
      "}\r\n",
      "s3 40000: fitness(NULL, p3){\r\n",
      "\treturn individual.tagF;\r\n",
      "}\r\n",
      "\r\n",
      "//--CHOOSE MATES BASED UPON FITNESS & SPATIAL LOCATION--\r\n",
      "\r\n",
      "1: mateChoice(p2) {\r\n",
      "\treturn  i2.strength(individual) * weights; \r\n",
      "}\r\n",
      "1: mateChoice(p1){\r\n",
      "\treturn i1.strength(individual) * weights;\r\n",
      "}\r\n",
      "s4 40000: mateChoice(p3){\r\n",
      "\treturn i2.strength(individual) * weights;\r\n",
      "}\r\n",
      "\r\n",
      "//--IF (THE OFFSPRING IS A MIGRANT FROM THE OCEAN) \r\n",
      "       \t//FIND THE CLOSEST LAKE TO MIGRATE TO\r\n",
      "//--ELSE \r\n",
      "\t//MIGRATION FROM PARENT PULLED FROM NORMAL DISTRIBUTION\r\n",
      " \r\n",
      "modifyChild(p1){\r\n",
      "\r\n",
      "\tif(sourceSubpop != subpop){  //mirant from the Ocean -> Lake \r\n",
      "\t\tnum = parent1.spatialPosition + rnorm(1,0,0.5);\r\n",
      "\t\tnum = p2.pointReflected(num);\r\n",
      "\t\tnearestMult = round(num);\r\n",
      "\t\tif(num < nearestMult){\r\n",
      "\t\t\tchild.setSpatialPosition(nearestMult - 0.5);\r\n",
      "\t\t}else{\r\n",
      "\t\t\tchild.setSpatialPosition(nearestMult + 0.5);\t\t\r\n",
      "\t\t}\t\t\r\n",
      "\t}else{\r\n",
      "\t\tpos = parent1.spatialPosition + rnorm(1,0,0.5);\r\n",
      "\t\tchild.setSpatialPosition(p1.pointReflected(pos));\t\r\n",
      "\t}\r\n",
      "\treturn T;\r\n",
      "}\r\n",
      "\r\n",
      "//--IF(THE OFFSPRING IS MIGRANT FROM THE LAKE)\r\n",
      "\t//MIGRATION FROM PARENT'S LAKE PULLED FROM NORMAL DIASTRIBUTION\r\n",
      "//--ELSE\r\n",
      "\t//OFFSPRING IS PLACED IN EXACTLY THE SAME LAKE (POSITION) AS PARENT\r\n",
      "\r\n",
      "modifyChild(p2){\r\n",
      "\r\n",
      "\tif(sourceSubpop != subpop){  //migrant from Lake -> Oceanic \r\n",
      "\t\tpos = parent1.spatialPosition + rnorm(1,0,0.5);\r\n",
      "\t\tchild.setSpatialPosition(p1.pointReflected(pos));\t\r\n",
      "\t}else{\r\n",
      "\t\tchild.setSpatialPosition(parent1.spatialPosition);\r\n",
      "\t}\r\n",
      "\treturn T;\r\n",
      "}\r\n",
      "\r\n",
      "s5 40000: modifyChild(p3){\r\n",
      "\r\n",
      "\tif(sourceSubpop != subpop){  //migrant from Lake -> Oceanic \r\n",
      "\t\tpos = parent1.spatialPosition + rnorm(1,0,0.5);\r\n",
      "\t\tchild.setSpatialPosition(p1.pointReflected(pos));\t\r\n",
      "\t}else{\r\n",
      "\t\tchild.setSpatialPosition(parent1.spatialPosition);\r\n",
      "\t}\r\n",
      "\treturn T;\r\n",
      "}\r\n",
      "\r\n",
      "s6 160001 late() {\r\n",
      "\r\n",
      "\tsim.treeSeqOutput(PATH+\"EndTrees.trees\");\r\n",
      "\tsim.simulationFinished();\r\n",
      "\r\n",
      "}\r\n"
     ]
    }
   ],
   "source": [
    " ! cat materials/stickleback_simulation.slim"
   ]
  },
  {
   "cell_type": "markdown",
   "metadata": {
    "slideshow": {
     "slide_type": "subslide"
    }
   },
   "source": [
    "With forward-time simulations, it is common to have a \"burn-in\" of $10N$ generations."
   ]
  },
  {
   "cell_type": "markdown",
   "metadata": {
    "slideshow": {
     "slide_type": "fragment"
    }
   },
   "source": [
    "commonly, this is the number of generations that a well mixed population takes to coalesce. "
   ]
  },
  {
   "cell_type": "markdown",
   "metadata": {
    "slideshow": {
     "slide_type": "fragment"
    }
   },
   "source": [
    "But what if $N$ is _really really_ big?"
   ]
  },
  {
   "cell_type": "markdown",
   "metadata": {
    "slideshow": {
     "slide_type": "subslide"
    }
   },
   "source": [
    "### _Re-capitation!_"
   ]
  },
  {
   "cell_type": "markdown",
   "metadata": {
    "slideshow": {
     "slide_type": "fragment"
    }
   },
   "source": [
    "a `TreeSequence` output by `SLiM` saves the _entire_ state of the simulation at the time it's dumped."
   ]
  },
  {
   "cell_type": "markdown",
   "metadata": {
    "slideshow": {
     "slide_type": "fragment"
    }
   },
   "source": [
    "By saving the _initial_ generation of the simulation, we can run a coalescent on top to finish off the prior history"
   ]
  },
  {
   "cell_type": "markdown",
   "metadata": {
    "slideshow": {
     "slide_type": "subslide"
    }
   },
   "source": [
    "<img src=\"materials/pedigree_recapitate.png\" width=\"300\" align=\"center\">"
   ]
  },
  {
   "cell_type": "markdown",
   "metadata": {
    "slideshow": {
     "slide_type": "subslide"
    }
   },
   "source": [
    "and look how easy it is!"
   ]
  },
  {
   "cell_type": "markdown",
   "metadata": {
    "slideshow": {
     "slide_type": "fragment"
    }
   },
   "source": [
    "```python\n",
    "orig_ts = pyslim.load(\"example_sim.trees\")\n",
    "rts = orig_ts.recapitate(recombination_rate = 1e-8, Ne=200)\n",
    "```"
   ]
  },
  {
   "cell_type": "markdown",
   "metadata": {
    "slideshow": {
     "slide_type": "slide"
    }
   },
   "source": [
    "<img src=\"materials/tstools.png\" width=\"1000\" align=\"center\">"
   ]
  },
  {
   "cell_type": "markdown",
   "metadata": {
    "slideshow": {
     "slide_type": "slide"
    }
   },
   "source": [
    "## More people to thank\n",
    "\n",
    "* Peter Ralph\n",
    "* Andrew Kern\n",
    "* Leslie Coonrod\n",
    "* Bill Cresko\n",
    "* Stacey Wagner\n",
    "* Ben Haller\n",
    "* Jerome Kelleher\n"
   ]
  },
  {
   "cell_type": "code",
   "execution_count": null,
   "metadata": {},
   "outputs": [],
   "source": []
  }
 ],
 "metadata": {
  "celltoolbar": "Slideshow",
  "kernelspec": {
   "display_name": "Python 3",
   "language": "python",
   "name": "python3"
  },
  "language_info": {
   "codemirror_mode": {
    "name": "ipython",
    "version": 3
   },
   "file_extension": ".py",
   "mimetype": "text/x-python",
   "name": "python",
   "nbconvert_exporter": "python",
   "pygments_lexer": "ipython3",
   "version": "3.7.7"
  }
 },
 "nbformat": 4,
 "nbformat_minor": 4
}
